{
  "cells": [
    {
      "cell_type": "code",
      "execution_count": 1,
      "metadata": {
        "id": "EiyUOsN7zBt8"
      },
      "outputs": [],
      "source": [
        "import pandas as pd\n",
        "import numpy as np\n",
        "import matplotlib.pyplot as plt\n",
        "from sklearn.pipeline import Pipeline\n",
        "from sklearn.feature_extraction.text import TfidfVectorizer\n",
        "from nltk.corpus import stopwords\n",
        "from sklearn.svm import LinearSVC, SVC\n",
        "from sklearn.linear_model import LogisticRegression\n",
        "from sklearn.metrics import confusion_matrix, precision_score, f1_score, recall_score, accuracy_score\n",
        "from sklearn.model_selection import train_test_split\n",
        "import pickle\n",
        "import time\n",
        "\n",
        "import sys\n",
        "sys.stdout = open('output_of_svm_tfidf.txt','wt')\n",
        "\n",
        "stopwords = stopwords.words('english')"
      ]
    },
    {
      "cell_type": "markdown",
      "metadata": {},
      "source": [
        "#### Load data"
      ]
    },
    {
      "cell_type": "code",
      "execution_count": 2,
      "metadata": {
        "colab": {
          "base_uri": "https://localhost:8080/"
        },
        "id": "6W61Kbzy8caY",
        "outputId": "45f75dc9-0b10-45ce-f548-9d000f23b910"
      },
      "outputs": [
        {
          "name": "stderr",
          "output_type": "stream",
          "text": [
            "/Users/siddhipotdar/opt/anaconda3/lib/python3.9/site-packages/sklearn/utils/deprecation.py:87: FutureWarning: Function get_feature_names is deprecated; get_feature_names is deprecated in 1.0 and will be removed in 1.2. Please use get_feature_names_out instead.\n",
            "  warnings.warn(msg, category=FutureWarning)\n"
          ]
        }
      ],
      "source": [
        "X = np.load('data/X_token.npy', allow_pickle=True)\n",
        "y = np.load('data/y_binarized.npy', allow_pickle=True) \n",
        "\n",
        "# Word embeddings, using tdidf\n",
        "\n",
        "tf_idf_vect = TfidfVectorizer(stop_words=None)\n",
        "tf_idf_vect.fit(X)\n",
        "X_final_tf_idf = tf_idf_vect.transform(X)\n",
        "\n",
        "X_train, X_test, y_train, y_test = train_test_split(X_final_tf_idf, y, test_size=0.4, random_state=1)\n",
        "# validation split\n",
        "X_test, X_val, y_test, y_val = train_test_split(X_test, y_test, test_size=0.5, random_state=1)\n"
      ]
    },
    {
      "cell_type": "markdown",
      "metadata": {},
      "source": [
        "Tags for plotting"
      ]
    },
    {
      "cell_type": "code",
      "execution_count": null,
      "metadata": {},
      "outputs": [],
      "source": [
        "tags = np.load('data/y_tags.npy', allow_pickle=True)"
      ]
    },
    {
      "cell_type": "markdown",
      "metadata": {},
      "source": [
        "# SVM"
      ]
    },
    {
      "cell_type": "markdown",
      "metadata": {},
      "source": [
        "SVM multiple binary classifiers"
      ]
    },
    {
      "cell_type": "code",
      "execution_count": 4,
      "metadata": {},
      "outputs": [],
      "source": [
        "def train_svm(class_wt = None, name=None):\n",
        "    SVM_model_list = []\n",
        "    for i in range(y_train.shape[1]):\n",
        "        sample_y_train = y_train[:, i]\n",
        "        SVM_clf_single = LinearSVC(dual= False, class_weight=class_wt)\n",
        "        SVM_clf_single.fit(X_train, sample_y_train)\n",
        "        SVM_model_list.append(SVM_clf_single)\n",
        "    with open(name, 'wb') as f:\n",
        "        pickle.dump(SVM_model_list, f)\n",
        "    return SVM_model_list\n",
        "\n",
        "    "
      ]
    },
    {
      "cell_type": "code",
      "execution_count": 5,
      "metadata": {},
      "outputs": [],
      "source": [
        "def pred_svm(model, x_data):\n",
        "    return model.predict(x_data)"
      ]
    },
    {
      "cell_type": "code",
      "execution_count": 6,
      "metadata": {},
      "outputs": [],
      "source": [
        "def calc_scores(name, SVM_model_list):\n",
        "    precision_tr = []\n",
        "    precision_v = []\n",
        "    recall_tr = []\n",
        "    recall_v = []\n",
        "    f1_tr = []\n",
        "    f1_v = []\n",
        "    accu_tr = []\n",
        "    accu_v = []\n",
        "    \n",
        "    for i in range(len(SVM_model_list)):\n",
        "        y_pred_tr = pred_svm(SVM_model_list[i], X_train)\n",
        "        y_pred_v = pred_svm(SVM_model_list[i] ,(X_val))\n",
        "\n",
        "        precision_tr.append(precision_score(y_pred=y_pred_tr, y_true=y_train[:,i]))\n",
        "        precision_v.append(precision_score(y_pred=y_pred_v, y_true=y_val[:,i]))\n",
        "\n",
        "        recall_tr.append(recall_score(y_pred=y_pred_tr, y_true=y_train[:,i]))\n",
        "        recall_v.append(recall_score(y_pred=y_pred_v, y_true=y_val[:,i]))\n",
        "\n",
        "        f1_tr.append(f1_score(y_pred=y_pred_tr, y_true=y_train[:,i]))\n",
        "        f1_v.append(f1_score(y_pred=y_pred_v, y_true=y_val[:,i]))\n",
        "\n",
        "        accu_tr.append(accuracy_score(y_pred=y_pred_tr, y_true=y_train[:,i]))\n",
        "        accu_v.append(accuracy_score(y_pred=y_pred_v, y_true=y_val[:,i]))\n",
        "\n",
        "    with open(\"./results/precision_cw_tr_\"+name+\".txt\", \"w\") as output:\n",
        "        output.write(str(y_pred_tr))\n",
        "    with open(\"./results/precision_cw_v_\"+name+\".txt\", \"w\") as output:\n",
        "        output.write(str(y_pred_v))\n",
        "    with open(\"./results/recall_cw_tr\"+name+\".txt\", \"w\") as output:\n",
        "        output.write(str(recall_tr))\n",
        "    with open(\"./results/recall_cw_v\"+name+\".txt\", \"w\") as output:\n",
        "        output.write(str(recall_v))\n",
        "    with open(\"./results/f1_cw_tr\"+name+\".txt\", \"w\") as output:\n",
        "        output.write(str(f1_tr))\n",
        "    with open(\"./results/f1_cw_v\"+name+\".txt\", \"w\") as output:\n",
        "        output.write(str(f1_v))\n",
        "    with open(\"./results/accu_cw_tr\"+name+\".txt\", \"w\") as output:\n",
        "        output.write(str(accu_tr))\n",
        "    with open(\"./results/accu_cw_v\"+name+\".txt\", \"w\") as output:\n",
        "        output.write(str(accu_v))\n",
        "    \n",
        "    return precision_tr, precision_v, recall_tr, recall_v, f1_tr, f1_v, accu_tr, accu_v"
      ]
    },
    {
      "cell_type": "code",
      "execution_count": 7,
      "metadata": {},
      "outputs": [],
      "source": [
        "def plotting_metrics(metric_list, name, tags=tags):\n",
        "    disp_df = pd.DataFrame(\n",
        "        {'tags': tags,\n",
        "        'prec': metric_list\n",
        "        })\n",
        "    disp_df = disp_df.sort_values(by = 'prec' , ascending=False)\n",
        "    plt.figure(figsize=(300, 200), dpi=200)\n",
        "    plt.bar(disp_df['tags'], disp_df['prec'])\n",
        "    plt.savefig(name)"
      ]
    },
    {
      "cell_type": "markdown",
      "metadata": {},
      "source": [
        "SVM for class weight set to None"
      ]
    },
    {
      "cell_type": "code",
      "execution_count": 8,
      "metadata": {},
      "outputs": [],
      "source": [
        "start_time = time.time()\n",
        "SVM_model_list = train_svm(name='./models/svm_none_wt_model_list_tfidf.pkl')\n",
        "print('Execution time for SVM with None class weight, for tf-idf embeddings',time.time()-start_time)\n"
      ]
    },
    {
      "cell_type": "markdown",
      "metadata": {},
      "source": [
        "SVM for class weight set to balanced"
      ]
    },
    {
      "cell_type": "code",
      "execution_count": 9,
      "metadata": {},
      "outputs": [
        {
          "name": "stderr",
          "output_type": "stream",
          "text": [
            "/Users/siddhipotdar/opt/anaconda3/lib/python3.9/site-packages/sklearn/svm/_base.py:1206: ConvergenceWarning: Liblinear failed to converge, increase the number of iterations.\n",
            "  warnings.warn(\n",
            "/Users/siddhipotdar/opt/anaconda3/lib/python3.9/site-packages/sklearn/svm/_base.py:1206: ConvergenceWarning: Liblinear failed to converge, increase the number of iterations.\n",
            "  warnings.warn(\n",
            "/Users/siddhipotdar/opt/anaconda3/lib/python3.9/site-packages/sklearn/svm/_base.py:1206: ConvergenceWarning: Liblinear failed to converge, increase the number of iterations.\n",
            "  warnings.warn(\n",
            "/Users/siddhipotdar/opt/anaconda3/lib/python3.9/site-packages/sklearn/svm/_base.py:1206: ConvergenceWarning: Liblinear failed to converge, increase the number of iterations.\n",
            "  warnings.warn(\n",
            "/Users/siddhipotdar/opt/anaconda3/lib/python3.9/site-packages/sklearn/svm/_base.py:1206: ConvergenceWarning: Liblinear failed to converge, increase the number of iterations.\n",
            "  warnings.warn(\n",
            "/Users/siddhipotdar/opt/anaconda3/lib/python3.9/site-packages/sklearn/svm/_base.py:1206: ConvergenceWarning: Liblinear failed to converge, increase the number of iterations.\n",
            "  warnings.warn(\n"
          ]
        }
      ],
      "source": [
        "start_time = time.time()\n",
        "SVM_model_list_bal = train_svm(class_wt='balanced', name='./models/svm_bal_wt_model_list_tfidf.pkl')\n",
        "print('Execution time for SVM with balanced class weight, for tf-idf embeddings',time.time()-start_time)\n"
      ]
    },
    {
      "cell_type": "markdown",
      "metadata": {},
      "source": [
        "SVM for class weight set to 1:10"
      ]
    },
    {
      "cell_type": "code",
      "execution_count": 10,
      "metadata": {},
      "outputs": [],
      "source": [
        "start_time = time.time()\n",
        "SVM_model_list_self = train_svm(class_wt={0:1, 1:10},name='./models/svm_self_wt_model_list_tfidf.pkl')\n",
        "print('Execution time for SVM with 1:10 class weight, for tf-idf embeddings',time.time()-start_time)\n"
      ]
    },
    {
      "cell_type": "markdown",
      "metadata": {},
      "source": [
        "Trained models can be loaded using the following lines"
      ]
    },
    {
      "cell_type": "code",
      "execution_count": 9,
      "metadata": {},
      "outputs": [],
      "source": [
        "# SVM_model_list = pickle.load(open('./models/svm_none_wt_model_list_tfidf.pkl', 'rb'))\n",
        "# SVM_model_list_bal = pickle.load(open('./models/svm_bal_wt_model_list_tfidf.pkl', 'rb'))\n",
        "# SVM_model_list_self = pickle.load(open('./models/svm_self_wt_model_list_tfidf.pkl', 'rb'))"
      ]
    },
    {
      "cell_type": "markdown",
      "metadata": {},
      "source": [
        "Calculating evaluation metrics for SVM with class weight = None"
      ]
    },
    {
      "cell_type": "code",
      "execution_count": 11,
      "metadata": {},
      "outputs": [
        {
          "name": "stderr",
          "output_type": "stream",
          "text": [
            "/Users/siddhipotdar/opt/anaconda3/lib/python3.9/site-packages/sklearn/metrics/_classification.py:1318: UndefinedMetricWarning: Precision is ill-defined and being set to 0.0 due to no predicted samples. Use `zero_division` parameter to control this behavior.\n",
            "  _warn_prf(average, modifier, msg_start, len(result))\n",
            "/Users/siddhipotdar/opt/anaconda3/lib/python3.9/site-packages/sklearn/metrics/_classification.py:1318: UndefinedMetricWarning: Precision is ill-defined and being set to 0.0 due to no predicted samples. Use `zero_division` parameter to control this behavior.\n",
            "  _warn_prf(average, modifier, msg_start, len(result))\n",
            "/Users/siddhipotdar/opt/anaconda3/lib/python3.9/site-packages/sklearn/metrics/_classification.py:1318: UndefinedMetricWarning: Precision is ill-defined and being set to 0.0 due to no predicted samples. Use `zero_division` parameter to control this behavior.\n",
            "  _warn_prf(average, modifier, msg_start, len(result))\n",
            "/Users/siddhipotdar/opt/anaconda3/lib/python3.9/site-packages/sklearn/metrics/_classification.py:1318: UndefinedMetricWarning: Precision is ill-defined and being set to 0.0 due to no predicted samples. Use `zero_division` parameter to control this behavior.\n",
            "  _warn_prf(average, modifier, msg_start, len(result))\n",
            "/Users/siddhipotdar/opt/anaconda3/lib/python3.9/site-packages/sklearn/metrics/_classification.py:1318: UndefinedMetricWarning: Precision is ill-defined and being set to 0.0 due to no predicted samples. Use `zero_division` parameter to control this behavior.\n",
            "  _warn_prf(average, modifier, msg_start, len(result))\n",
            "/Users/siddhipotdar/opt/anaconda3/lib/python3.9/site-packages/sklearn/metrics/_classification.py:1318: UndefinedMetricWarning: Precision is ill-defined and being set to 0.0 due to no predicted samples. Use `zero_division` parameter to control this behavior.\n",
            "  _warn_prf(average, modifier, msg_start, len(result))\n",
            "/Users/siddhipotdar/opt/anaconda3/lib/python3.9/site-packages/sklearn/metrics/_classification.py:1318: UndefinedMetricWarning: Precision is ill-defined and being set to 0.0 due to no predicted samples. Use `zero_division` parameter to control this behavior.\n",
            "  _warn_prf(average, modifier, msg_start, len(result))\n",
            "/Users/siddhipotdar/opt/anaconda3/lib/python3.9/site-packages/sklearn/metrics/_classification.py:1318: UndefinedMetricWarning: Precision is ill-defined and being set to 0.0 due to no predicted samples. Use `zero_division` parameter to control this behavior.\n",
            "  _warn_prf(average, modifier, msg_start, len(result))\n",
            "/Users/siddhipotdar/opt/anaconda3/lib/python3.9/site-packages/sklearn/metrics/_classification.py:1318: UndefinedMetricWarning: Precision is ill-defined and being set to 0.0 due to no predicted samples. Use `zero_division` parameter to control this behavior.\n",
            "  _warn_prf(average, modifier, msg_start, len(result))\n",
            "/Users/siddhipotdar/opt/anaconda3/lib/python3.9/site-packages/sklearn/metrics/_classification.py:1318: UndefinedMetricWarning: Precision is ill-defined and being set to 0.0 due to no predicted samples. Use `zero_division` parameter to control this behavior.\n",
            "  _warn_prf(average, modifier, msg_start, len(result))\n",
            "/Users/siddhipotdar/opt/anaconda3/lib/python3.9/site-packages/sklearn/metrics/_classification.py:1318: UndefinedMetricWarning: Precision is ill-defined and being set to 0.0 due to no predicted samples. Use `zero_division` parameter to control this behavior.\n",
            "  _warn_prf(average, modifier, msg_start, len(result))\n",
            "/Users/siddhipotdar/opt/anaconda3/lib/python3.9/site-packages/sklearn/metrics/_classification.py:1318: UndefinedMetricWarning: Precision is ill-defined and being set to 0.0 due to no predicted samples. Use `zero_division` parameter to control this behavior.\n",
            "  _warn_prf(average, modifier, msg_start, len(result))\n",
            "/Users/siddhipotdar/opt/anaconda3/lib/python3.9/site-packages/sklearn/metrics/_classification.py:1318: UndefinedMetricWarning: Precision is ill-defined and being set to 0.0 due to no predicted samples. Use `zero_division` parameter to control this behavior.\n",
            "  _warn_prf(average, modifier, msg_start, len(result))\n",
            "/Users/siddhipotdar/opt/anaconda3/lib/python3.9/site-packages/sklearn/metrics/_classification.py:1318: UndefinedMetricWarning: Precision is ill-defined and being set to 0.0 due to no predicted samples. Use `zero_division` parameter to control this behavior.\n",
            "  _warn_prf(average, modifier, msg_start, len(result))\n",
            "/Users/siddhipotdar/opt/anaconda3/lib/python3.9/site-packages/sklearn/metrics/_classification.py:1318: UndefinedMetricWarning: Precision is ill-defined and being set to 0.0 due to no predicted samples. Use `zero_division` parameter to control this behavior.\n",
            "  _warn_prf(average, modifier, msg_start, len(result))\n",
            "/Users/siddhipotdar/opt/anaconda3/lib/python3.9/site-packages/sklearn/metrics/_classification.py:1318: UndefinedMetricWarning: Precision is ill-defined and being set to 0.0 due to no predicted samples. Use `zero_division` parameter to control this behavior.\n",
            "  _warn_prf(average, modifier, msg_start, len(result))\n",
            "/Users/siddhipotdar/opt/anaconda3/lib/python3.9/site-packages/sklearn/metrics/_classification.py:1318: UndefinedMetricWarning: Precision is ill-defined and being set to 0.0 due to no predicted samples. Use `zero_division` parameter to control this behavior.\n",
            "  _warn_prf(average, modifier, msg_start, len(result))\n"
          ]
        }
      ],
      "source": [
        "precision_cw_none_tr, precision_cw_none_v,recall_cw_none_tr,recall_cw_none_v, f1_cw_none_tr, f1_cw_none_v, accu_cw_none_tr, accu_cw_none_v = calc_scores('none',SVM_model_list)\n",
        "f1_mean_cw_none_v = np.mean(f1_cw_none_v)\n",
        "accu_mean_cw_none_v = np.mean(accu_cw_none_v)\n",
        "print(\"F1 mean cw none, tfidf: \", f1_mean_cw_none_v)\n",
        "print(\"accuracy mean cw none, tfidf: \", accu_mean_cw_none_v)"
      ]
    },
    {
      "cell_type": "markdown",
      "metadata": {},
      "source": [
        "Calculating evaluation metrics for SVM with class weight = balanced"
      ]
    },
    {
      "cell_type": "code",
      "execution_count": 16,
      "metadata": {},
      "outputs": [],
      "source": [
        "precision_cw_bal_tr, precision_cw_bal_v,recall_cw_bal_tr,recall_cw_bal_v, f1_cw_bal_tr, f1_cw_bal_v, accu_cw_bal_tr, accu_cw_bal_v = calc_scores('bal',SVM_model_list_bal)\n",
        "f1_mean_cw_bal_v = np.mean(f1_cw_bal_v)\n",
        "accu_mean_cw_bal_v = np.mean(accu_cw_bal_v)\n",
        "print(\"F1 mean for bal class wt, tfidf: \", f1_mean_cw_bal_v)\n",
        "print(\"accuracy mean for bal class wt, tfidf: \", accu_mean_cw_bal_v)"
      ]
    },
    {
      "cell_type": "markdown",
      "metadata": {},
      "source": [
        "Calculating evaluation metrics for SVM with class weight = 1:10"
      ]
    },
    {
      "cell_type": "code",
      "execution_count": 15,
      "metadata": {},
      "outputs": [],
      "source": [
        "precision_cw_self_tr, precision_cw_self_v,recall_cw_self_tr,recall_cw_self_v, f1_cw_self_tr, f1_cw_self_v, accu_cw_self_tr, accu_cw_self_v = calc_scores('self',SVM_model_list_self)\n",
        "f1_mean_cw_self_v = np.mean(f1_cw_self_v)\n",
        "accu_mean_cw_self_v = np.mean(accu_cw_self_v)\n",
        "print(\"F1 mean svm 1:10 _tfidf: \", f1_mean_cw_self_v)\n",
        "print(\"accuracy mean svm 1:10 _tfidf: \", accu_mean_cw_self_v)"
      ]
    },
    {
      "cell_type": "markdown",
      "metadata": {},
      "source": [
        "Confusion matrix for the best model:"
      ]
    },
    {
      "cell_type": "code",
      "execution_count": null,
      "metadata": {},
      "outputs": [],
      "source": [
        "from sklearn.metrics import ConfusionMatrixDisplay\n",
        "idx_good = np.where(tags=='cs.LG')[0][0]\n",
        "idx_avg = np.where(tags=='cs.NE')[0][0]\n",
        "idx_bad = np.where(tags=='cs.NA')[0][0]\n",
        "print(idx_avg)\n",
        "y_pred_v_good = SVM_model_list[idx_good].predict(X_val)\n",
        "y_pred_v_avg = SVM_model_list[idx_avg].predict(X_val)\n",
        "y_pred_v_bad = SVM_model_list[idx_bad].predict(X_val)\n",
        "\n",
        "m_good = confusion_matrix(y_pred=y_pred_v_good, y_true=y_val[:,idx_good])\n",
        "m_avg = confusion_matrix(y_pred=y_pred_v_avg, y_true=y_val[:,idx_avg])\n",
        "m_bad = confusion_matrix(y_pred=y_pred_v_bad, y_true=y_val[:,idx_bad])\n"
      ]
    },
    {
      "cell_type": "code",
      "execution_count": null,
      "metadata": {},
      "outputs": [],
      "source": [
        "plt_good = ConfusionMatrixDisplay(m_good).plot()"
      ]
    },
    {
      "cell_type": "code",
      "execution_count": null,
      "metadata": {},
      "outputs": [],
      "source": [
        "plt_avg = ConfusionMatrixDisplay(m_avg).plot()"
      ]
    },
    {
      "cell_type": "code",
      "execution_count": null,
      "metadata": {},
      "outputs": [],
      "source": [
        "plt_bad = ConfusionMatrixDisplay(m_bad).plot()"
      ]
    },
    {
      "cell_type": "markdown",
      "metadata": {},
      "source": [
        "Precision, Recall and F1 plots"
      ]
    },
    {
      "cell_type": "code",
      "execution_count": null,
      "metadata": {},
      "outputs": [],
      "source": [
        "# plotting_metrics(recall_cw_self_v, './results/recall_class_self_wt_tfidf.png')\n",
        "# plotting_metrics(f1_cw_self_v, './results/f1_cw_self_v_tfidf.png')\n",
        "# plotting_metrics(precision_cw_self_v, './results/precision_cw_self_v_tfidf.png')"
      ]
    }
  ],
  "metadata": {
    "colab": {
      "provenance": []
    },
    "kernelspec": {
      "display_name": "Python 3.9.12 ('base')",
      "language": "python",
      "name": "python3"
    },
    "language_info": {
      "codemirror_mode": {
        "name": "ipython",
        "version": 3
      },
      "file_extension": ".py",
      "mimetype": "text/x-python",
      "name": "python",
      "nbconvert_exporter": "python",
      "pygments_lexer": "ipython3",
      "version": "3.9.12"
    },
    "orig_nbformat": 4,
    "vscode": {
      "interpreter": {
        "hash": "dfad143759263861f218098ffac96349330b525a4ec8957cf3d4a95ef932a418"
      }
    }
  },
  "nbformat": 4,
  "nbformat_minor": 0
}
