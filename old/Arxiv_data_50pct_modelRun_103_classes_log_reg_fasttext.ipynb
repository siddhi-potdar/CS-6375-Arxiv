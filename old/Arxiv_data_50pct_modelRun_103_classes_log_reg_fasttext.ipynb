{
  "cells": [
    {
      "cell_type": "markdown",
      "metadata": {},
      "source": [
        "Imports"
      ]
    },
    {
      "cell_type": "code",
      "execution_count": 9,
      "metadata": {
        "id": "EiyUOsN7zBt8"
      },
      "outputs": [],
      "source": [
        "import pandas as pd\n",
        "import numpy as np\n",
        "import matplotlib.pyplot as plt\n",
        "from sklearn.linear_model import LogisticRegression\n",
        "from sklearn.metrics import confusion_matrix, precision_score, f1_score, recall_score, accuracy_score\n",
        "from sklearn.model_selection import train_test_split\n",
        "import pickle\n",
        "import time\n",
        "\n",
        "import sys\n",
        "sys.stdout = open('output_of_LR_fasttext.txt','wt')"
      ]
    },
    {
      "cell_type": "markdown",
      "metadata": {},
      "source": [
        "#### Load data"
      ]
    },
    {
      "cell_type": "code",
      "execution_count": 2,
      "metadata": {
        "colab": {
          "base_uri": "https://localhost:8080/"
        },
        "id": "6W61Kbzy8caY",
        "outputId": "45f75dc9-0b10-45ce-f548-9d000f23b910"
      },
      "outputs": [],
      "source": [
        "X = np.load('data/X_fasttext_embeddings.npy') \n",
        "y = np.load('data/y_binarized.npy') \n",
        "\n",
        "X_train, X_test, y_train, y_test = train_test_split(X, y, test_size=0.4, random_state=1)\n",
        "#creating a validation set for hyperparameter tuning\n",
        "X_test, X_val, y_test, y_val = train_test_split(X_test, y_test, test_size=0.5, random_state=1)\n"
      ]
    },
    {
      "cell_type": "markdown",
      "metadata": {},
      "source": [
        "Tags for plotting"
      ]
    },
    {
      "cell_type": "code",
      "execution_count": 3,
      "metadata": {},
      "outputs": [
        {
          "data": {
            "text/plain": [
              "array(['astro-ph.IM', 'cond-mat.dis-nn', 'cond-mat.mtrl-sci',\n",
              "       'cond-mat.stat-mech', 'cs.AI', 'cs.AR', 'cs.CC', 'cs.CE', 'cs.CG',\n",
              "       'cs.CL', 'cs.CR', 'cs.CV', 'cs.CY', 'cs.DB', 'cs.DC', 'cs.DL',\n",
              "       'cs.DM', 'cs.DS', 'cs.ET', 'cs.FL', 'cs.GL', 'cs.GR', 'cs.GT',\n",
              "       'cs.HC', 'cs.IR', 'cs.IT', 'cs.LG', 'cs.LO', 'cs.MA', 'cs.MM',\n",
              "       'cs.MS', 'cs.NA', 'cs.NE', 'cs.NI', 'cs.OH', 'cs.OS', 'cs.PF',\n",
              "       'cs.PL', 'cs.RO', 'cs.SC', 'cs.SD', 'cs.SE', 'cs.SI', 'cs.SY',\n",
              "       'econ.EM', 'econ.GN', 'econ.TH', 'eess.AS', 'eess.IV', 'eess.SP',\n",
              "       'eess.SY', 'hep-ex', 'math-ph', 'math.AC', 'math.AG', 'math.AP',\n",
              "       'math.AT', 'math.CA', 'math.CO', 'math.CT', 'math.DG', 'math.DS',\n",
              "       'math.FA', 'math.GR', 'math.IT', 'math.LO', 'math.MG', 'math.MP',\n",
              "       'math.NA', 'math.NT', 'math.OC', 'math.PR', 'math.RA', 'math.RT',\n",
              "       'math.ST', 'nlin.AO', 'nlin.CD', 'nlin.CG', 'physics.ao-ph',\n",
              "       'physics.app-ph', 'physics.bio-ph', 'physics.chem-ph',\n",
              "       'physics.comp-ph', 'physics.data-an', 'physics.flu-dyn',\n",
              "       'physics.geo-ph', 'physics.med-ph', 'physics.optics',\n",
              "       'physics.soc-ph', 'q-bio.BM', 'q-bio.GN', 'q-bio.MN', 'q-bio.NC',\n",
              "       'q-bio.PE', 'q-bio.QM', 'q-fin.EC', 'q-fin.ST', 'quant-ph',\n",
              "       'stat.AP', 'stat.CO', 'stat.ME', 'stat.ML', 'stat.TH'],\n",
              "      dtype=object)"
            ]
          },
          "execution_count": 3,
          "metadata": {},
          "output_type": "execute_result"
        }
      ],
      "source": [
        "tags = np.load('data/y_tags.npy', allow_pickle=True)\n",
        "tags"
      ]
    },
    {
      "cell_type": "markdown",
      "metadata": {},
      "source": [
        "# Logistic Regression"
      ]
    },
    {
      "cell_type": "markdown",
      "metadata": {},
      "source": [
        "LR multiple binary classifiers"
      ]
    },
    {
      "cell_type": "code",
      "execution_count": 11,
      "metadata": {},
      "outputs": [],
      "source": [
        "def train_LR(C = 1, name=None):\n",
        "    LR_model_list = []\n",
        "    for i in range(y_train.shape[1]):\n",
        "        sample_y_train = y_train[:, i]\n",
        "        LR_clf_single = LogisticRegression(n_jobs=-1, C=C, solver='saga')\n",
        "        LR_clf_single.fit(X_train, sample_y_train)\n",
        "        LR_model_list.append(LR_clf_single)\n",
        "    with open(name, 'wb') as f:\n",
        "        pickle.dump(LR_model_list, f)\n",
        "    return LR_model_list\n",
        "\n",
        "    "
      ]
    },
    {
      "cell_type": "code",
      "execution_count": 5,
      "metadata": {},
      "outputs": [],
      "source": [
        "def pred_LR(model, x_data):\n",
        "    return model.predict(x_data)"
      ]
    },
    {
      "cell_type": "code",
      "execution_count": 6,
      "metadata": {},
      "outputs": [],
      "source": [
        "def calc_scores(name, LR_model_list):\n",
        "    precision_tr = []\n",
        "    precision_v = []\n",
        "    recall_tr = []\n",
        "    recall_v = []\n",
        "    f1_tr = []\n",
        "    f1_v = []\n",
        "    accu_tr = []\n",
        "    accu_v = []\n",
        "    \n",
        "    for i in range(len(LR_model_list)):\n",
        "        y_pred_tr = pred_LR(LR_model_list[i], X_train)\n",
        "        y_pred_v = pred_LR(LR_model_list[i] ,(X_val))\n",
        "\n",
        "        precision_tr.append(precision_score(y_pred=y_pred_tr, y_true=y_train[:,i]))\n",
        "        precision_v.append(precision_score(y_pred=y_pred_v, y_true=y_val[:,i]))\n",
        "\n",
        "        recall_tr.append(recall_score(y_pred=y_pred_tr, y_true=y_train[:,i]))\n",
        "        recall_v.append(recall_score(y_pred=y_pred_v, y_true=y_val[:,i]))\n",
        "\n",
        "        f1_tr.append(f1_score(y_pred=y_pred_tr, y_true=y_train[:,i]))\n",
        "        f1_v.append(f1_score(y_pred=y_pred_v, y_true=y_val[:,i]))\n",
        "\n",
        "        accu_tr.append(accuracy_score(y_pred=y_pred_tr, y_true=y_train[:,i]))\n",
        "        accu_v.append(accuracy_score(y_pred=y_pred_v, y_true=y_val[:,i]))\n",
        "\n",
        "    with open(\"./results/precision_C_tr_\"+name+\".txt\", \"w\") as output:\n",
        "        output.write(str(y_pred_tr))\n",
        "    with open(\"./results/precision_C_v_\"+name+\".txt\", \"w\") as output:\n",
        "        output.write(str(y_pred_v))\n",
        "    with open(\"./results/recall_C_tr\"+name+\".txt\", \"w\") as output:\n",
        "        output.write(str(recall_tr))\n",
        "    with open(\"./results/recall_C_v\"+name+\".txt\", \"w\") as output:\n",
        "        output.write(str(recall_v))\n",
        "    with open(\"./results/f1_C_tr\"+name+\".txt\", \"w\") as output:\n",
        "        output.write(str(f1_tr))\n",
        "    with open(\"./results/f1_C_v\"+name+\".txt\", \"w\") as output:\n",
        "        output.write(str(f1_v))\n",
        "    with open(\"./results/accu_C_tr\"+name+\".txt\", \"w\") as output:\n",
        "        output.write(str(accu_tr))\n",
        "    with open(\"./results/accu_C_v\"+name+\".txt\", \"w\") as output:\n",
        "        output.write(str(accu_v))\n",
        "    \n",
        "    return precision_tr, precision_v, recall_tr, recall_v, f1_tr, f1_v, accu_tr, accu_v"
      ]
    },
    {
      "cell_type": "code",
      "execution_count": 7,
      "metadata": {},
      "outputs": [],
      "source": [
        "def plotting_metrics(metric_list, name, tags=tags):\n",
        "    disp_df = pd.DataFrame(\n",
        "        {'tags': tags,\n",
        "        'prec': metric_list\n",
        "        })\n",
        "    disp_df = disp_df.sort_values(by = 'prec' , ascending=False)\n",
        "    plt.figure(figsize=(300, 200), dpi=200)\n",
        "    plt.bar(disp_df['tags'], disp_df['prec'])\n",
        "    plt.xticks(fontsize=10)\n",
        "    plt.savefig(name)"
      ]
    },
    {
      "cell_type": "code",
      "execution_count": 12,
      "metadata": {},
      "outputs": [
        {
          "name": "stderr",
          "output_type": "stream",
          "text": [
            "/Users/siddhipotdar/opt/anaconda3/lib/python3.9/site-packages/sklearn/linear_model/_sag.py:352: ConvergenceWarning: The max_iter was reached which means the coef_ did not converge\n",
            "  warnings.warn(\n"
          ]
        },
        {
          "ename": "KeyboardInterrupt",
          "evalue": "",
          "output_type": "error",
          "traceback": [
            "\u001b[0;31m---------------------------------------------------------------------------\u001b[0m",
            "\u001b[0;31mKeyboardInterrupt\u001b[0m                         Traceback (most recent call last)",
            "\u001b[1;32m/Users/siddhipotdar/Documents/CS-6375-Arxiv/Arxiv-pred/Arxiv_data_50pct_modelRun_103_classes_log_reg_fasttext.ipynb Cell 13\u001b[0m in \u001b[0;36m<cell line: 2>\u001b[0;34m()\u001b[0m\n\u001b[1;32m      <a href='vscode-notebook-cell:/Users/siddhipotdar/Documents/CS-6375-Arxiv/Arxiv-pred/Arxiv_data_50pct_modelRun_103_classes_log_reg_fasttext.ipynb#X15sZmlsZQ%3D%3D?line=0'>1</a>\u001b[0m start_time \u001b[39m=\u001b[39m time\u001b[39m.\u001b[39mtime()\n\u001b[0;32m----> <a href='vscode-notebook-cell:/Users/siddhipotdar/Documents/CS-6375-Arxiv/Arxiv-pred/Arxiv_data_50pct_modelRun_103_classes_log_reg_fasttext.ipynb#X15sZmlsZQ%3D%3D?line=1'>2</a>\u001b[0m LR_model_list \u001b[39m=\u001b[39m train_LR(C\u001b[39m=\u001b[39;49m\u001b[39m1\u001b[39;49m, name\u001b[39m=\u001b[39;49m\u001b[39m'\u001b[39;49m\u001b[39mLR_C_large_model_list.pkl\u001b[39;49m\u001b[39m'\u001b[39;49m)\n\u001b[1;32m      <a href='vscode-notebook-cell:/Users/siddhipotdar/Documents/CS-6375-Arxiv/Arxiv-pred/Arxiv_data_50pct_modelRun_103_classes_log_reg_fasttext.ipynb#X15sZmlsZQ%3D%3D?line=2'>3</a>\u001b[0m \u001b[39mprint\u001b[39m(\u001b[39m'\u001b[39m\u001b[39mExecution time for LR with C=1, for fasttext embeddings\u001b[39m\u001b[39m'\u001b[39m,time\u001b[39m.\u001b[39mtime()\u001b[39m-\u001b[39mstart_time)\n",
            "\u001b[1;32m/Users/siddhipotdar/Documents/CS-6375-Arxiv/Arxiv-pred/Arxiv_data_50pct_modelRun_103_classes_log_reg_fasttext.ipynb Cell 13\u001b[0m in \u001b[0;36mtrain_LR\u001b[0;34m(C, name)\u001b[0m\n\u001b[1;32m      <a href='vscode-notebook-cell:/Users/siddhipotdar/Documents/CS-6375-Arxiv/Arxiv-pred/Arxiv_data_50pct_modelRun_103_classes_log_reg_fasttext.ipynb#X15sZmlsZQ%3D%3D?line=3'>4</a>\u001b[0m     sample_y_train \u001b[39m=\u001b[39m y_train[:, i]\n\u001b[1;32m      <a href='vscode-notebook-cell:/Users/siddhipotdar/Documents/CS-6375-Arxiv/Arxiv-pred/Arxiv_data_50pct_modelRun_103_classes_log_reg_fasttext.ipynb#X15sZmlsZQ%3D%3D?line=4'>5</a>\u001b[0m     LR_clf_single \u001b[39m=\u001b[39m LogisticRegression(n_jobs\u001b[39m=\u001b[39m\u001b[39m-\u001b[39m\u001b[39m1\u001b[39m, C\u001b[39m=\u001b[39mC, solver\u001b[39m=\u001b[39m\u001b[39m'\u001b[39m\u001b[39msaga\u001b[39m\u001b[39m'\u001b[39m)\n\u001b[0;32m----> <a href='vscode-notebook-cell:/Users/siddhipotdar/Documents/CS-6375-Arxiv/Arxiv-pred/Arxiv_data_50pct_modelRun_103_classes_log_reg_fasttext.ipynb#X15sZmlsZQ%3D%3D?line=5'>6</a>\u001b[0m     LR_clf_single\u001b[39m.\u001b[39;49mfit(X_train, sample_y_train)\n\u001b[1;32m      <a href='vscode-notebook-cell:/Users/siddhipotdar/Documents/CS-6375-Arxiv/Arxiv-pred/Arxiv_data_50pct_modelRun_103_classes_log_reg_fasttext.ipynb#X15sZmlsZQ%3D%3D?line=6'>7</a>\u001b[0m     LR_model_list\u001b[39m.\u001b[39mappend(LR_clf_single)\n\u001b[1;32m      <a href='vscode-notebook-cell:/Users/siddhipotdar/Documents/CS-6375-Arxiv/Arxiv-pred/Arxiv_data_50pct_modelRun_103_classes_log_reg_fasttext.ipynb#X15sZmlsZQ%3D%3D?line=7'>8</a>\u001b[0m \u001b[39mwith\u001b[39;00m \u001b[39mopen\u001b[39m(name, \u001b[39m'\u001b[39m\u001b[39mwb\u001b[39m\u001b[39m'\u001b[39m) \u001b[39mas\u001b[39;00m f:\n",
            "File \u001b[0;32m~/opt/anaconda3/lib/python3.9/site-packages/sklearn/linear_model/_logistic.py:1589\u001b[0m, in \u001b[0;36mLogisticRegression.fit\u001b[0;34m(self, X, y, sample_weight)\u001b[0m\n\u001b[1;32m   1587\u001b[0m \u001b[39melse\u001b[39;00m:\n\u001b[1;32m   1588\u001b[0m     prefer \u001b[39m=\u001b[39m \u001b[39m\"\u001b[39m\u001b[39mprocesses\u001b[39m\u001b[39m\"\u001b[39m\n\u001b[0;32m-> 1589\u001b[0m fold_coefs_ \u001b[39m=\u001b[39m Parallel(\n\u001b[1;32m   1590\u001b[0m     n_jobs\u001b[39m=\u001b[39;49m\u001b[39mself\u001b[39;49m\u001b[39m.\u001b[39;49mn_jobs,\n\u001b[1;32m   1591\u001b[0m     verbose\u001b[39m=\u001b[39;49m\u001b[39mself\u001b[39;49m\u001b[39m.\u001b[39;49mverbose,\n\u001b[1;32m   1592\u001b[0m     \u001b[39m*\u001b[39;49m\u001b[39m*\u001b[39;49m_joblib_parallel_args(prefer\u001b[39m=\u001b[39;49mprefer),\n\u001b[1;32m   1593\u001b[0m )(\n\u001b[1;32m   1594\u001b[0m     path_func(\n\u001b[1;32m   1595\u001b[0m         X,\n\u001b[1;32m   1596\u001b[0m         y,\n\u001b[1;32m   1597\u001b[0m         pos_class\u001b[39m=\u001b[39;49mclass_,\n\u001b[1;32m   1598\u001b[0m         Cs\u001b[39m=\u001b[39;49m[C_],\n\u001b[1;32m   1599\u001b[0m         l1_ratio\u001b[39m=\u001b[39;49m\u001b[39mself\u001b[39;49m\u001b[39m.\u001b[39;49ml1_ratio,\n\u001b[1;32m   1600\u001b[0m         fit_intercept\u001b[39m=\u001b[39;49m\u001b[39mself\u001b[39;49m\u001b[39m.\u001b[39;49mfit_intercept,\n\u001b[1;32m   1601\u001b[0m         tol\u001b[39m=\u001b[39;49m\u001b[39mself\u001b[39;49m\u001b[39m.\u001b[39;49mtol,\n\u001b[1;32m   1602\u001b[0m         verbose\u001b[39m=\u001b[39;49m\u001b[39mself\u001b[39;49m\u001b[39m.\u001b[39;49mverbose,\n\u001b[1;32m   1603\u001b[0m         solver\u001b[39m=\u001b[39;49msolver,\n\u001b[1;32m   1604\u001b[0m         multi_class\u001b[39m=\u001b[39;49mmulti_class,\n\u001b[1;32m   1605\u001b[0m         max_iter\u001b[39m=\u001b[39;49m\u001b[39mself\u001b[39;49m\u001b[39m.\u001b[39;49mmax_iter,\n\u001b[1;32m   1606\u001b[0m         class_weight\u001b[39m=\u001b[39;49m\u001b[39mself\u001b[39;49m\u001b[39m.\u001b[39;49mclass_weight,\n\u001b[1;32m   1607\u001b[0m         check_input\u001b[39m=\u001b[39;49m\u001b[39mFalse\u001b[39;49;00m,\n\u001b[1;32m   1608\u001b[0m         random_state\u001b[39m=\u001b[39;49m\u001b[39mself\u001b[39;49m\u001b[39m.\u001b[39;49mrandom_state,\n\u001b[1;32m   1609\u001b[0m         coef\u001b[39m=\u001b[39;49mwarm_start_coef_,\n\u001b[1;32m   1610\u001b[0m         penalty\u001b[39m=\u001b[39;49mpenalty,\n\u001b[1;32m   1611\u001b[0m         max_squared_sum\u001b[39m=\u001b[39;49mmax_squared_sum,\n\u001b[1;32m   1612\u001b[0m         sample_weight\u001b[39m=\u001b[39;49msample_weight,\n\u001b[1;32m   1613\u001b[0m     )\n\u001b[1;32m   1614\u001b[0m     \u001b[39mfor\u001b[39;49;00m class_, warm_start_coef_ \u001b[39min\u001b[39;49;00m \u001b[39mzip\u001b[39;49m(classes_, warm_start_coef)\n\u001b[1;32m   1615\u001b[0m )\n\u001b[1;32m   1617\u001b[0m fold_coefs_, _, n_iter_ \u001b[39m=\u001b[39m \u001b[39mzip\u001b[39m(\u001b[39m*\u001b[39mfold_coefs_)\n\u001b[1;32m   1618\u001b[0m \u001b[39mself\u001b[39m\u001b[39m.\u001b[39mn_iter_ \u001b[39m=\u001b[39m np\u001b[39m.\u001b[39masarray(n_iter_, dtype\u001b[39m=\u001b[39mnp\u001b[39m.\u001b[39mint32)[:, \u001b[39m0\u001b[39m]\n",
            "File \u001b[0;32m~/opt/anaconda3/lib/python3.9/site-packages/joblib/parallel.py:1098\u001b[0m, in \u001b[0;36mParallel.__call__\u001b[0;34m(self, iterable)\u001b[0m\n\u001b[1;32m   1095\u001b[0m     \u001b[39mself\u001b[39m\u001b[39m.\u001b[39m_iterating \u001b[39m=\u001b[39m \u001b[39mFalse\u001b[39;00m\n\u001b[1;32m   1097\u001b[0m \u001b[39mwith\u001b[39;00m \u001b[39mself\u001b[39m\u001b[39m.\u001b[39m_backend\u001b[39m.\u001b[39mretrieval_context():\n\u001b[0;32m-> 1098\u001b[0m     \u001b[39mself\u001b[39;49m\u001b[39m.\u001b[39;49mretrieve()\n\u001b[1;32m   1099\u001b[0m \u001b[39m# Make sure that we get a last message telling us we are done\u001b[39;00m\n\u001b[1;32m   1100\u001b[0m elapsed_time \u001b[39m=\u001b[39m time\u001b[39m.\u001b[39mtime() \u001b[39m-\u001b[39m \u001b[39mself\u001b[39m\u001b[39m.\u001b[39m_start_time\n",
            "File \u001b[0;32m~/opt/anaconda3/lib/python3.9/site-packages/joblib/parallel.py:975\u001b[0m, in \u001b[0;36mParallel.retrieve\u001b[0;34m(self)\u001b[0m\n\u001b[1;32m    973\u001b[0m \u001b[39mtry\u001b[39;00m:\n\u001b[1;32m    974\u001b[0m     \u001b[39mif\u001b[39;00m \u001b[39mgetattr\u001b[39m(\u001b[39mself\u001b[39m\u001b[39m.\u001b[39m_backend, \u001b[39m'\u001b[39m\u001b[39msupports_timeout\u001b[39m\u001b[39m'\u001b[39m, \u001b[39mFalse\u001b[39;00m):\n\u001b[0;32m--> 975\u001b[0m         \u001b[39mself\u001b[39m\u001b[39m.\u001b[39m_output\u001b[39m.\u001b[39mextend(job\u001b[39m.\u001b[39;49mget(timeout\u001b[39m=\u001b[39;49m\u001b[39mself\u001b[39;49m\u001b[39m.\u001b[39;49mtimeout))\n\u001b[1;32m    976\u001b[0m     \u001b[39melse\u001b[39;00m:\n\u001b[1;32m    977\u001b[0m         \u001b[39mself\u001b[39m\u001b[39m.\u001b[39m_output\u001b[39m.\u001b[39mextend(job\u001b[39m.\u001b[39mget())\n",
            "File \u001b[0;32m~/opt/anaconda3/lib/python3.9/multiprocessing/pool.py:765\u001b[0m, in \u001b[0;36mApplyResult.get\u001b[0;34m(self, timeout)\u001b[0m\n\u001b[1;32m    764\u001b[0m \u001b[39mdef\u001b[39;00m \u001b[39mget\u001b[39m(\u001b[39mself\u001b[39m, timeout\u001b[39m=\u001b[39m\u001b[39mNone\u001b[39;00m):\n\u001b[0;32m--> 765\u001b[0m     \u001b[39mself\u001b[39;49m\u001b[39m.\u001b[39;49mwait(timeout)\n\u001b[1;32m    766\u001b[0m     \u001b[39mif\u001b[39;00m \u001b[39mnot\u001b[39;00m \u001b[39mself\u001b[39m\u001b[39m.\u001b[39mready():\n\u001b[1;32m    767\u001b[0m         \u001b[39mraise\u001b[39;00m \u001b[39mTimeoutError\u001b[39;00m\n",
            "File \u001b[0;32m~/opt/anaconda3/lib/python3.9/multiprocessing/pool.py:762\u001b[0m, in \u001b[0;36mApplyResult.wait\u001b[0;34m(self, timeout)\u001b[0m\n\u001b[1;32m    761\u001b[0m \u001b[39mdef\u001b[39;00m \u001b[39mwait\u001b[39m(\u001b[39mself\u001b[39m, timeout\u001b[39m=\u001b[39m\u001b[39mNone\u001b[39;00m):\n\u001b[0;32m--> 762\u001b[0m     \u001b[39mself\u001b[39;49m\u001b[39m.\u001b[39;49m_event\u001b[39m.\u001b[39;49mwait(timeout)\n",
            "File \u001b[0;32m~/opt/anaconda3/lib/python3.9/threading.py:574\u001b[0m, in \u001b[0;36mEvent.wait\u001b[0;34m(self, timeout)\u001b[0m\n\u001b[1;32m    572\u001b[0m signaled \u001b[39m=\u001b[39m \u001b[39mself\u001b[39m\u001b[39m.\u001b[39m_flag\n\u001b[1;32m    573\u001b[0m \u001b[39mif\u001b[39;00m \u001b[39mnot\u001b[39;00m signaled:\n\u001b[0;32m--> 574\u001b[0m     signaled \u001b[39m=\u001b[39m \u001b[39mself\u001b[39;49m\u001b[39m.\u001b[39;49m_cond\u001b[39m.\u001b[39;49mwait(timeout)\n\u001b[1;32m    575\u001b[0m \u001b[39mreturn\u001b[39;00m signaled\n",
            "File \u001b[0;32m~/opt/anaconda3/lib/python3.9/threading.py:312\u001b[0m, in \u001b[0;36mCondition.wait\u001b[0;34m(self, timeout)\u001b[0m\n\u001b[1;32m    310\u001b[0m \u001b[39mtry\u001b[39;00m:    \u001b[39m# restore state no matter what (e.g., KeyboardInterrupt)\u001b[39;00m\n\u001b[1;32m    311\u001b[0m     \u001b[39mif\u001b[39;00m timeout \u001b[39mis\u001b[39;00m \u001b[39mNone\u001b[39;00m:\n\u001b[0;32m--> 312\u001b[0m         waiter\u001b[39m.\u001b[39;49macquire()\n\u001b[1;32m    313\u001b[0m         gotit \u001b[39m=\u001b[39m \u001b[39mTrue\u001b[39;00m\n\u001b[1;32m    314\u001b[0m     \u001b[39melse\u001b[39;00m:\n",
            "\u001b[0;31mKeyboardInterrupt\u001b[0m: "
          ]
        }
      ],
      "source": [
        "start_time = time.time()\n",
        "LR_model_list = train_LR(C=1, name='LR_C_large_model_list.pkl')\n",
        "print('Execution time for LR with C=1, for fasttext embeddings',time.time()-start_time)\n"
      ]
    },
    {
      "cell_type": "code",
      "execution_count": null,
      "metadata": {},
      "outputs": [],
      "source": [
        "start_time = time.time()\n",
        "LR_model_list_bal = train_LR(C=0.01, name='LR_C_med_model_list.pkl')\n",
        "print('Execution time for LR with C=0.1, for fasttext embeddings',time.time()-start_time)"
      ]
    },
    {
      "cell_type": "code",
      "execution_count": null,
      "metadata": {},
      "outputs": [],
      "source": [
        "start_time = time.time()\n",
        "LR_model_list_small = train_LR(C=0.001,name='LR_C_small_model_list.pkl')\n",
        "print('Execution time for LR with C=0.001, for fasttext embeddings',time.time()-start_time)\n"
      ]
    },
    {
      "cell_type": "code",
      "execution_count": 13,
      "metadata": {},
      "outputs": [],
      "source": [
        "\n",
        "LR_model_list_large = pickle.load(open('LR_none_wt_model_list.pkl', 'rb'))\n",
        "LR_model_list_med = pickle.load(open('LR_bal_wt_model_list.pkl', 'rb'))\n",
        "LR_model_list_small = pickle.load(open('LR_small_wt_model_list.pkl', 'rb'))"
      ]
    },
    {
      "cell_type": "code",
      "execution_count": null,
      "metadata": {},
      "outputs": [],
      "source": [
        "precision_C_large_tr, precision_C_large_v,recall_C_large_tr,recall_C_large_v, f1_C_large_tr, f1_C_large_v, accu_C_large_tr, accu_C_large_v = calc_scores('C_large',LR_model_list_large)\n",
        "f1_mean_C_large_v = np.mean(f1_C_large_v)\n",
        "accu_mean_C_large_v = np.mean(accu_C_large_v)\n",
        "print(\"F1 mean for C=1: \", f1_mean_C_large_v)\n",
        "print(\"accuracy mean for C=1: \", accu_mean_C_large_v)"
      ]
    },
    {
      "cell_type": "code",
      "execution_count": null,
      "metadata": {},
      "outputs": [],
      "source": [
        "plotting_metrics(recall_C_large_v, './results/recall_C_large.png')\n",
        "plotting_metrics(f1_C_large_v, './results/f1_C_large_v.png')\n",
        "plotting_metrics(precision_C_large_v, './results/precision_C_large_v.png')"
      ]
    },
    {
      "cell_type": "code",
      "execution_count": null,
      "metadata": {},
      "outputs": [],
      "source": [
        "precision_C_med_tr, precision_C_med_v,recall_C_med_tr,recall_C_med_v, f1_C_med_tr, f1_C_med_v, accu_C_med_tr, accu_C_med_v = calc_scores('med',LR_model_list_bal)\n",
        "f1_mean_C_med_v = np.mean(f1_C_med_v)\n",
        "accu_mean_C_med_v = np.mean(accu_C_med_v)\n",
        "print(\"F1 mean for C=0.1: \", f1_mean_C_med_v)\n",
        "print(\"accuracy mean for C=0.1: \", accu_mean_C_med_v)"
      ]
    },
    {
      "cell_type": "code",
      "execution_count": null,
      "metadata": {},
      "outputs": [],
      "source": [
        "plotting_metrics(recall_C_med_v, './results/recall_C_med.png')\n",
        "plotting_metrics(f1_C_med_v, './results/f1_C_med_v.png')\n",
        "plotting_metrics(precision_C_med_v, './results/precision_C_med_v.png')"
      ]
    },
    {
      "cell_type": "code",
      "execution_count": null,
      "metadata": {},
      "outputs": [],
      "source": [
        "precision_C_small_tr, precision_C_small_v,recall_C_small_tr,recall_C_small_v, f1_C_small_tr, f1_C_small_v, accu_C_small_tr, accu_C_small_v = calc_scores('small',LR_model_list_small)\n",
        "f1_mean_C_small_v = np.mean(f1_C_small_v)\n",
        "accu_mean_C_small_v = np.mean(accu_C_small_v)\n",
        "print(\"F1 mean for C=0.01: \", f1_mean_C_small_v)\n",
        "print(\"accuracy mean for C=0.01: \", accu_mean_C_small_v)"
      ]
    },
    {
      "cell_type": "code",
      "execution_count": null,
      "metadata": {},
      "outputs": [],
      "source": [
        "plotting_metrics(recall_C_small_v, './results/recall_C_small.png')\n",
        "plotting_metrics(f1_C_small_v, './results/f1_C_small_v.png')\n",
        "plotting_metrics(precision_C_small_v, './results/precision_C_small_v.png')"
      ]
    },
    {
      "cell_type": "code",
      "execution_count": null,
      "metadata": {},
      "outputs": [
        {
          "name": "stdout",
          "output_type": "stream",
          "text": [
            "32\n"
          ]
        }
      ],
      "source": [
        "from sklearn.metrics import ConfusionMatrixDisplay\n",
        "idx_good = np.where(tags=='cs.LG')[0][0]\n",
        "idx_avg = np.where(tags=='cs.NE')[0][0]\n",
        "idx_bad = np.where(tags=='cs.NA')[0][0]\n",
        "print(idx_avg)\n",
        "y_pred_v_good = SVM_model_list[idx_good].predict(X_val)\n",
        "y_pred_v_avg = SVM_model_list[idx_avg].predict(X_val)\n",
        "y_pred_v_bad = SVM_model_list[idx_bad].predict(X_val)\n",
        "\n",
        "m_good = confusion_matrix(y_pred=y_pred_v_good, y_true=y_val[:,idx_good])\n",
        "m_avg = confusion_matrix(y_pred=y_pred_v_avg, y_true=y_val[:,idx_avg])\n",
        "m_bad = confusion_matrix(y_pred=y_pred_v_bad, y_true=y_val[:,idx_bad])\n"
      ]
    },
    {
      "cell_type": "code",
      "execution_count": null,
      "metadata": {},
      "outputs": [
        {
          "data": {
            "image/png": "[encoded data removed]",
            "text/plain": [
              "<Figure size 432x288 with 2 Axes>"
            ]
          },
          "metadata": {
            "needs_background": "light"
          },
          "output_type": "display_data"
        }
      ],
      "source": [
        "plt_good = ConfusionMatrixDisplay(m_good).plot()"
      ]
    },
    {
      "cell_type": "code",
      "execution_count": null,
      "metadata": {},
      "outputs": [
        {
          "data": {
            "image/png": "[encoded data removed]",
            "text/plain": [
              "<Figure size 432x288 with 2 Axes>"
            ]
          },
          "metadata": {
            "needs_background": "light"
          },
          "output_type": "display_data"
        }
      ],
      "source": [
        "plt_avg = ConfusionMatrixDisplay(m_avg).plot()"
      ]
    },
    {
      "cell_type": "code",
      "execution_count": null,
      "metadata": {},
      "outputs": [
        {
          "data": {
            "image/png": "[encoded data removed]",
            "text/plain": [
              "<Figure size 432x288 with 2 Axes>"
            ]
          },
          "metadata": {
            "needs_background": "light"
          },
          "output_type": "display_data"
        }
      ],
      "source": [
        "plt_bad = ConfusionMatrixDisplay(m_bad).plot()"
      ]
    },
    {
      "cell_type": "code",
      "execution_count": null,
      "metadata": {},
      "outputs": [
        {
          "name": "stdout",
          "output_type": "stream",
          "text": [
            "32\n"
          ]
        }
      ],
      "source": [
        "idx_good = np.where(tags=='cs.LG')[0][0]\n",
        "idx_avg = np.where(tags=='cs.NE')[0][0]\n",
        "idx_bad = np.where(tags=='cs.NA')[0][0]\n",
        "print(idx_avg)\n",
        "y_pred_v_good = SVM_model_list_bal[idx_good].predict(X_val)\n",
        "y_pred_v_avg = SVM_model_list_bal[idx_avg].predict(X_val)\n",
        "y_pred_v_bad = SVM_model_list_bal[idx_bad].predict(X_val)\n",
        "\n",
        "m_good = confusion_matrix(y_pred=y_pred_v_good, y_true=y_val[:,idx_good])\n",
        "m_avg = confusion_matrix(y_pred=y_pred_v_avg, y_true=y_val[:,idx_avg])\n",
        "m_bad = confusion_matrix(y_pred=y_pred_v_bad, y_true=y_val[:,idx_bad])"
      ]
    },
    {
      "cell_type": "code",
      "execution_count": null,
      "metadata": {},
      "outputs": [
        {
          "data": {
            "image/png": "[encoded data removed]",
            "text/plain": [
              "<Figure size 432x288 with 2 Axes>"
            ]
          },
          "metadata": {
            "needs_background": "light"
          },
          "output_type": "display_data"
        }
      ],
      "source": [
        "plt_good = ConfusionMatrixDisplay(m_good).plot()"
      ]
    },
    {
      "cell_type": "code",
      "execution_count": null,
      "metadata": {},
      "outputs": [
        {
          "data": {
            "image/png": "[encoded data removed]",
            "text/plain": [
              "<Figure size 432x288 with 2 Axes>"
            ]
          },
          "metadata": {
            "needs_background": "light"
          },
          "output_type": "display_data"
        }
      ],
      "source": [
        "plt_avg = ConfusionMatrixDisplay(m_avg).plot()"
      ]
    },
    {
      "cell_type": "code",
      "execution_count": null,
      "metadata": {},
      "outputs": [
        {
          "data": {
            "image/png": "[encoded data removed]",
            "text/plain": [
              "<Figure size 432x288 with 2 Axes>"
            ]
          },
          "metadata": {
            "needs_background": "light"
          },
          "output_type": "display_data"
        }
      ],
      "source": [
        "plt_bad = ConfusionMatrixDisplay(m_bad).plot()"
      ]
    },
    {
      "cell_type": "code",
      "execution_count": null,
      "metadata": {},
      "outputs": [
        {
          "name": "stdout",
          "output_type": "stream",
          "text": [
            "32\n"
          ]
        }
      ],
      "source": [
        "idx_good = np.where(tags=='cs.LG')[0][0]\n",
        "idx_avg = np.where(tags=='cs.NE')[0][0]\n",
        "idx_bad = np.where(tags=='cs.NA')[0][0]\n",
        "print(idx_avg)\n",
        "y_pred_v_good = SVM_model_list_self[idx_good].predict(X_val)\n",
        "y_pred_v_avg = SVM_model_list_self[idx_avg].predict(X_val)\n",
        "y_pred_v_bad = SVM_model_list_self[idx_bad].predict(X_val)\n",
        "\n",
        "m_good = confusion_matrix(y_pred=y_pred_v_good, y_true=y_val[:,idx_good])\n",
        "m_avg = confusion_matrix(y_pred=y_pred_v_avg, y_true=y_val[:,idx_avg])\n",
        "m_bad = confusion_matrix(y_pred=y_pred_v_bad, y_true=y_val[:,idx_bad])"
      ]
    },
    {
      "cell_type": "code",
      "execution_count": null,
      "metadata": {},
      "outputs": [
        {
          "data": {
            "image/png": "[encoded data removed]",
            "text/plain": [
              "<Figure size 432x288 with 2 Axes>"
            ]
          },
          "metadata": {
            "needs_background": "light"
          },
          "output_type": "display_data"
        }
      ],
      "source": [
        "plt_good = ConfusionMatrixDisplay(m_good).plot()"
      ]
    },
    {
      "cell_type": "code",
      "execution_count": null,
      "metadata": {},
      "outputs": [
        {
          "data": {
            "image/png": "[encoded data removed]",
            "text/plain": [
              "<Figure size 432x288 with 2 Axes>"
            ]
          },
          "metadata": {
            "needs_background": "light"
          },
          "output_type": "display_data"
        }
      ],
      "source": [
        "plt_avg = ConfusionMatrixDisplay(m_avg).plot()"
      ]
    },
    {
      "cell_type": "code",
      "execution_count": null,
      "metadata": {},
      "outputs": [
        {
          "data": {
            "image/png": "[encoded data removed]",
            "text/plain": [
              "<Figure size 432x288 with 2 Axes>"
            ]
          },
          "metadata": {
            "needs_background": "light"
          },
          "output_type": "display_data"
        }
      ],
      "source": [
        "plt_bad = ConfusionMatrixDisplay(m_bad).plot()"
      ]
    },
    {
      "cell_type": "code",
      "execution_count": null,
      "metadata": {},
      "outputs": [],
      "source": []
    },
    {
      "cell_type": "code",
      "execution_count": null,
      "metadata": {},
      "outputs": [],
      "source": []
    },
    {
      "cell_type": "code",
      "execution_count": null,
      "metadata": {},
      "outputs": [],
      "source": []
    },
    {
      "cell_type": "markdown",
      "metadata": {},
      "source": [
        "CSAI"
      ]
    },
    {
      "cell_type": "code",
      "execution_count": 9,
      "metadata": {},
      "outputs": [
        {
          "data": {
            "text/plain": [
              "array([[0],\n",
              "       [1],\n",
              "       [0],\n",
              "       ...,\n",
              "       [0],\n",
              "       [0],\n",
              "       [0]])"
            ]
          },
          "execution_count": 9,
          "metadata": {},
          "output_type": "execute_result"
        }
      ],
      "source": [
        "# sample_y_train2 = y_train[:, 18]\n",
        "# sample_y_test2 = y_test[:, 18]\n",
        "# sample_y_train2.reshape(-1,1)\n",
        "# sample_y_test2.reshape(-1,1)"
      ]
    },
    {
      "cell_type": "code",
      "execution_count": 20,
      "metadata": {},
      "outputs": [],
      "source": [
        "# SVM_clf_csai = LinearSVC(dual=False, class_weight=\"balanced\")\n",
        "# SVM_clf_csai.fit(X_train, sample_y_train2)\n",
        "# y_pred_svm_class2 = SVM_clf_csai.predict(X_test)"
      ]
    },
    {
      "cell_type": "code",
      "execution_count": 14,
      "metadata": {},
      "outputs": [],
      "source": [
        "# SVM_clf_csai1 = LinearSVC(dual=False, class_weight={0:1, 1:10})\n",
        "# SVM_clf_csai1.fit(X_train, sample_y_train2)\n",
        "# y_pred_svm_class2 = SVM_clf_csai1.predict(X_test)"
      ]
    },
    {
      "cell_type": "code",
      "execution_count": 18,
      "metadata": {},
      "outputs": [
        {
          "data": {
            "text/plain": [
              "<sklearn.metrics._plot.confusion_matrix.ConfusionMatrixDisplay at 0x7fcdd8b3b430>"
            ]
          },
          "execution_count": 18,
          "metadata": {},
          "output_type": "execute_result"
        },
        {
          "data": {
            "image/png": "[encoded data removed]",
            "text/plain": [
              "<Figure size 432x288 with 2 Axes>"
            ]
          },
          "metadata": {
            "needs_background": "light"
          },
          "output_type": "display_data"
        }
      ],
      "source": [
        "# from sklearn.metrics import ConfusionMatrixDisplay\n",
        "# m = confusion_matrix(y_pred=y_pred_svm_class2, y_true=sample_y_test2)\n",
        "# ConfusionMatrixDisplay(m).plot()"
      ]
    },
    {
      "cell_type": "code",
      "execution_count": 21,
      "metadata": {},
      "outputs": [
        {
          "name": "stdout",
          "output_type": "stream",
          "text": [
            "              precision    recall  f1-score   support\n",
            "\n",
            "           0       1.00      0.90      0.95     76259\n",
            "           1       0.05      0.82      0.09       444\n",
            "\n",
            "    accuracy                           0.90     76703\n",
            "   macro avg       0.52      0.86      0.52     76703\n",
            "weighted avg       0.99      0.90      0.94     76703\n",
            "\n"
          ]
        },
        {
          "data": {
            "text/plain": [
              "<sklearn.metrics._plot.confusion_matrix.ConfusionMatrixDisplay at 0x7fcde089d670>"
            ]
          },
          "execution_count": 21,
          "metadata": {},
          "output_type": "execute_result"
        },
        {
          "data": {
            "image/png": "[encoded data removed]",
            "text/plain": [
              "<Figure size 432x288 with 2 Axes>"
            ]
          },
          "metadata": {
            "needs_background": "light"
          },
          "output_type": "display_data"
        }
      ],
      "source": [
        "# m = confusion_matrix(y_pred=y_pred_svm_class2, y_true=sample_y_test2)\n",
        "# from sklearn.metrics import classification_report\n",
        "# print(classification_report(y_pred=y_pred_svm_class2, y_true=sample_y_test2))\n",
        "# m = confusion_matrix(y_pred=y_pred_svm_class2, y_true=sample_y_test2)\n",
        "# ConfusionMatrixDisplay(m).plot()\n",
        "# #print(m[0][0]/(m[0][0]+m[1]))"
      ]
    },
    {
      "cell_type": "code",
      "execution_count": null,
      "metadata": {},
      "outputs": [],
      "source": [
        "#SVM_model_list_bal\n"
      ]
    },
    {
      "cell_type": "code",
      "execution_count": 6,
      "metadata": {},
      "outputs": [],
      "source": [
        "# y_pred_train = clf.predict(X_train)\n",
        "# bin_acc_train = []\n",
        "# for col in range(y_train.shape[1]):\n",
        "#     cnt=0\n",
        "#     for j in range(y_train.shape[0]):\n",
        "#         if y_train[j][col] == y_pred_train[j][col]:\n",
        "#             cnt+=1\n",
        "#     bin_acc_train.append(cnt/(y_train.shape[0]))"
      ]
    }
  ],
  "metadata": {
    "colab": {
      "provenance": []
    },
    "kernelspec": {
      "display_name": "Python 3.9.12 ('base')",
      "language": "python",
      "name": "python3"
    },
    "language_info": {
      "codemirror_mode": {
        "name": "ipython",
        "version": 3
      },
      "file_extension": ".py",
      "mimetype": "text/x-python",
      "name": "python",
      "nbconvert_exporter": "python",
      "pygments_lexer": "ipython3",
      "version": "3.9.12"
    },
    "orig_nbformat": 4,
    "vscode": {
      "interpreter": {
        "hash": "dfad143759263861f218098ffac96349330b525a4ec8957cf3d4a95ef932a418"
      }
    }
  },
  "nbformat": 4,
  "nbformat_minor": 0
}
