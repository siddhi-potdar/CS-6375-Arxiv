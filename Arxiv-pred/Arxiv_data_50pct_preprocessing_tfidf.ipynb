{
  "cells": [
    {
      "cell_type": "code",
      "execution_count": 1,
      "metadata": {
        "id": "f3jijZaz76pN"
      },
      "outputs": [],
      "source": [
        "import pandas as pd\n",
        "import numpy as np"
      ]
    },
    {
      "cell_type": "code",
      "execution_count": 2,
      "metadata": {
        "colab": {
          "base_uri": "https://localhost:8080/",
          "height": 670
        },
        "id": "6W61Kbzy8caY",
        "outputId": "f2a6dabe-65cb-4237-a29d-e3edc8333464"
      },
      "outputs": [],
      "source": [
        "df = pd.read_csv(\"data/103_classes_filtered.csv\")"
      ]
    },
    {
      "cell_type": "code",
      "execution_count": 3,
      "metadata": {
        "id": "FZNelkV23G0d"
      },
      "outputs": [],
      "source": [
        "X = df['title']\n",
        "y = df['categories']"
      ]
    },
    {
      "cell_type": "code",
      "execution_count": 4,
      "metadata": {
        "colab": {
          "base_uri": "https://localhost:8080/",
          "height": 419
        },
        "id": "UAsS0o1M99Mq",
        "outputId": "1c149623-ce38-4ca4-c29b-4c1725dc534f"
      },
      "outputs": [
        {
          "data": {
            "text/plain": [
              "array(['astro-ph.IM', 'cond-mat.dis-nn', 'cond-mat.mtrl-sci',\n",
              "       'cond-mat.stat-mech', 'cs.AI', 'cs.AR', 'cs.CC', 'cs.CE', 'cs.CG',\n",
              "       'cs.CL', 'cs.CR', 'cs.CV', 'cs.CY', 'cs.DB', 'cs.DC', 'cs.DL',\n",
              "       'cs.DM', 'cs.DS', 'cs.ET', 'cs.FL', 'cs.GL', 'cs.GR', 'cs.GT',\n",
              "       'cs.HC', 'cs.IR', 'cs.IT', 'cs.LG', 'cs.LO', 'cs.MA', 'cs.MM',\n",
              "       'cs.MS', 'cs.NA', 'cs.NE', 'cs.NI', 'cs.OH', 'cs.OS', 'cs.PF',\n",
              "       'cs.PL', 'cs.RO', 'cs.SC', 'cs.SD', 'cs.SE', 'cs.SI', 'cs.SY',\n",
              "       'econ.EM', 'econ.GN', 'econ.TH', 'eess.AS', 'eess.IV', 'eess.SP',\n",
              "       'eess.SY', 'hep-ex', 'math-ph', 'math.AC', 'math.AG', 'math.AP',\n",
              "       'math.AT', 'math.CA', 'math.CO', 'math.CT', 'math.DG', 'math.DS',\n",
              "       'math.FA', 'math.GR', 'math.IT', 'math.LO', 'math.MG', 'math.MP',\n",
              "       'math.NA', 'math.NT', 'math.OC', 'math.PR', 'math.RA', 'math.RT',\n",
              "       'math.ST', 'nlin.AO', 'nlin.CD', 'nlin.CG', 'physics.ao-ph',\n",
              "       'physics.app-ph', 'physics.bio-ph', 'physics.chem-ph',\n",
              "       'physics.comp-ph', 'physics.data-an', 'physics.flu-dyn',\n",
              "       'physics.geo-ph', 'physics.med-ph', 'physics.optics',\n",
              "       'physics.soc-ph', 'q-bio.BM', 'q-bio.GN', 'q-bio.MN', 'q-bio.NC',\n",
              "       'q-bio.PE', 'q-bio.QM', 'q-fin.EC', 'q-fin.ST', 'quant-ph',\n",
              "       'stat.AP', 'stat.CO', 'stat.ME', 'stat.ML', 'stat.TH'],\n",
              "      dtype=object)"
            ]
          },
          "execution_count": 4,
          "metadata": {},
          "output_type": "execute_result"
        }
      ],
      "source": [
        "from sklearn.preprocessing import MultiLabelBinarizer\n",
        "from ast import literal_eval\n",
        "y = [literal_eval(i) for i in y]\n",
        "mlb = MultiLabelBinarizer()\n",
        "y_binarized = mlb.fit_transform(y)\n",
        "mlb.classes_"
      ]
    },
    {
      "cell_type": "markdown",
      "metadata": {
        "id": "V3VYMojVYO-U"
      },
      "source": [
        "title preprocessing tfidf"
      ]
    },
    {
      "cell_type": "code",
      "execution_count": 5,
      "metadata": {
        "id": "a_8a6QIW2Reu"
      },
      "outputs": [],
      "source": [
        "from sklearn.feature_extraction.text import TfidfVectorizer\n",
        "from nltk.corpus import stopwords\n",
        "import re\n",
        "import nltk"
      ]
    },
    {
      "cell_type": "code",
      "execution_count": 6,
      "metadata": {
        "colab": {
          "base_uri": "https://localhost:8080/"
        },
        "id": "8cekno6iYWuI",
        "outputId": "c5570d80-8857-40bb-f1c3-cffa38063edc"
      },
      "outputs": [
        {
          "name": "stderr",
          "output_type": "stream",
          "text": [
            "[nltk_data] Downloading package stopwords to\n",
            "[nltk_data]     /Users/siddhipotdar/nltk_data...\n",
            "[nltk_data]   Package stopwords is already up-to-date!\n"
          ]
        },
        {
          "data": {
            "text/plain": [
              "True"
            ]
          },
          "execution_count": 6,
          "metadata": {},
          "output_type": "execute_result"
        }
      ],
      "source": [
        "nltk.download('stopwords')\n"
      ]
    },
    {
      "cell_type": "code",
      "execution_count": 7,
      "metadata": {
        "colab": {
          "background_save": true,
          "base_uri": "https://localhost:8080/"
        },
        "id": "6W7PXyjsa2uU",
        "outputId": "8945fee2-649f-4493-848f-e9e300b9159f"
      },
      "outputs": [],
      "source": [
        "# tokenize words and remove stopwords\n",
        "\n",
        "stopwords = nltk.corpus.stopwords.words('english')\n",
        "tokenizer = nltk.WordPunctTokenizer()\n",
        "X_token = np.empty((351467,))\n",
        "\n",
        "def preprocess(text: str) -> str:\n",
        "    text = tokenizer.tokenize(text.lower().strip())\n",
        "    text = [ x for x in text if x not in stopwords]\n",
        "    return ' '.join(text)\n",
        "\n"
      ]
    },
    {
      "cell_type": "code",
      "execution_count": 8,
      "metadata": {},
      "outputs": [],
      "source": [
        "X_token = []\n",
        "for item in X:\n",
        "    item = re.sub(r'[^a-zA-Z\\s]','', item, re.I)\n",
        "    X_token.append(preprocess(item))\n",
        "    #print(item)\n",
        "    "
      ]
    },
    {
      "cell_type": "code",
      "execution_count": 9,
      "metadata": {
        "colab": {
          "base_uri": "https://localhost:8080/"
        },
        "id": "jXtbdBB7nTZr",
        "outputId": "cd97ad22-b6b0-4cb5-88df-4983bc80249f"
      },
      "outputs": [],
      "source": [
        "X_token = np.array(X_token)"
      ]
    },
    {
      "cell_type": "code",
      "execution_count": 10,
      "metadata": {
        "id": "kbCoFwMyPknN"
      },
      "outputs": [
        {
          "data": {
            "text/plain": [
              "array(['intelligent location simultaneously active acoustic emission sources part',\n",
              "       'intelligent location simultaneously active acoustic emission sources part ii',\n",
              "       'online viterbi algorithm relationship random walks', ...,\n",
              "       'quantum bit commitment expansion',\n",
              "       'additive models high dimensions',\n",
              "       'seeing forest tree applying vrml mathematical problems number theory'],\n",
              "      dtype='<U291')"
            ]
          },
          "execution_count": 10,
          "metadata": {},
          "output_type": "execute_result"
        }
      ],
      "source": [
        "X_token"
      ]
    },
    {
      "cell_type": "code",
      "execution_count": null,
      "metadata": {},
      "outputs": [],
      "source": [
        "X_token = tfidfVectorizer(stop_words=stopwords)"
      ]
    }
  ],
  "metadata": {
    "colab": {
      "provenance": []
    },
    "kernelspec": {
      "display_name": "Python 3.9.12 ('base')",
      "language": "python",
      "name": "python3"
    },
    "language_info": {
      "codemirror_mode": {
        "name": "ipython",
        "version": 3
      },
      "file_extension": ".py",
      "mimetype": "text/x-python",
      "name": "python",
      "nbconvert_exporter": "python",
      "pygments_lexer": "ipython3",
      "version": "3.9.12"
    },
    "vscode": {
      "interpreter": {
        "hash": "dfad143759263861f218098ffac96349330b525a4ec8957cf3d4a95ef932a418"
      }
    }
  },
  "nbformat": 4,
  "nbformat_minor": 0
}
