{
  "cells": [
    {
      "cell_type": "markdown",
      "metadata": {},
      "source": [
        "Imports"
      ]
    },
    {
      "cell_type": "code",
      "execution_count": 1,
      "metadata": {
        "id": "EiyUOsN7zBt8"
      },
      "outputs": [],
      "source": [
        "import pandas as pd\n",
        "import numpy as np\n",
        "import matplotlib.pyplot as plt"
      ]
    },
    {
      "cell_type": "markdown",
      "metadata": {},
      "source": [
        "Reading filtered data with 103 classes"
      ]
    },
    {
      "cell_type": "code",
      "execution_count": 2,
      "metadata": {
        "colab": {
          "base_uri": "https://localhost:8080/"
        },
        "id": "6W61Kbzy8caY",
        "outputId": "45f75dc9-0b10-45ce-f548-9d000f23b910"
      },
      "outputs": [],
      "source": [
        "df = pd.read_csv(\"data/103_classes_filtered.csv\")"
      ]
    },
    {
      "cell_type": "code",
      "execution_count": 3,
      "metadata": {},
      "outputs": [],
      "source": [
        "X = df['title']\n",
        "y = df['categories']"
      ]
    },
    {
      "cell_type": "code",
      "execution_count": 4,
      "metadata": {},
      "outputs": [
        {
          "data": {
            "text/plain": [
              "(381732,)"
            ]
          },
          "execution_count": 4,
          "metadata": {},
          "output_type": "execute_result"
        }
      ],
      "source": [
        "X.shape"
      ]
    },
    {
      "cell_type": "code",
      "execution_count": 5,
      "metadata": {},
      "outputs": [
        {
          "data": {
            "text/plain": [
              "\"['cs.NE', 'cs.AI']\""
            ]
          },
          "execution_count": 5,
          "metadata": {},
          "output_type": "execute_result"
        }
      ],
      "source": [
        "y[0]"
      ]
    },
    {
      "cell_type": "markdown",
      "metadata": {},
      "source": [
        "Preprocessing tags, by binarizing using MultiLabelBinarizer"
      ]
    },
    {
      "cell_type": "code",
      "execution_count": 6,
      "metadata": {
        "colab": {
          "base_uri": "https://localhost:8080/"
        },
        "id": "1e9GTcYmzBt_",
        "outputId": "4489d766-8e8c-4efd-b75a-89f1948b9ab0"
      },
      "outputs": [
        {
          "data": {
            "text/plain": [
              "array(['astro-ph.IM', 'cond-mat.dis-nn', 'cond-mat.mtrl-sci',\n",
              "       'cond-mat.stat-mech', 'cs.AI', 'cs.AR', 'cs.CC', 'cs.CE', 'cs.CG',\n",
              "       'cs.CL', 'cs.CR', 'cs.CV', 'cs.CY', 'cs.DB', 'cs.DC', 'cs.DL',\n",
              "       'cs.DM', 'cs.DS', 'cs.ET', 'cs.FL', 'cs.GL', 'cs.GR', 'cs.GT',\n",
              "       'cs.HC', 'cs.IR', 'cs.IT', 'cs.LG', 'cs.LO', 'cs.MA', 'cs.MM',\n",
              "       'cs.MS', 'cs.NA', 'cs.NE', 'cs.NI', 'cs.OH', 'cs.OS', 'cs.PF',\n",
              "       'cs.PL', 'cs.RO', 'cs.SC', 'cs.SD', 'cs.SE', 'cs.SI', 'cs.SY',\n",
              "       'econ.EM', 'econ.GN', 'econ.TH', 'eess.AS', 'eess.IV', 'eess.SP',\n",
              "       'eess.SY', 'hep-ex', 'math-ph', 'math.AC', 'math.AG', 'math.AP',\n",
              "       'math.AT', 'math.CA', 'math.CO', 'math.CT', 'math.DG', 'math.DS',\n",
              "       'math.FA', 'math.GR', 'math.IT', 'math.LO', 'math.MG', 'math.MP',\n",
              "       'math.NA', 'math.NT', 'math.OC', 'math.PR', 'math.RA', 'math.RT',\n",
              "       'math.ST', 'nlin.AO', 'nlin.CD', 'nlin.CG', 'physics.ao-ph',\n",
              "       'physics.app-ph', 'physics.bio-ph', 'physics.chem-ph',\n",
              "       'physics.comp-ph', 'physics.data-an', 'physics.flu-dyn',\n",
              "       'physics.geo-ph', 'physics.med-ph', 'physics.optics',\n",
              "       'physics.soc-ph', 'q-bio.BM', 'q-bio.GN', 'q-bio.MN', 'q-bio.NC',\n",
              "       'q-bio.PE', 'q-bio.QM', 'q-fin.EC', 'q-fin.ST', 'quant-ph',\n",
              "       'stat.AP', 'stat.CO', 'stat.ME', 'stat.ML', 'stat.TH'],\n",
              "      dtype=object)"
            ]
          },
          "execution_count": 6,
          "metadata": {},
          "output_type": "execute_result"
        }
      ],
      "source": [
        "from sklearn.preprocessing import MultiLabelBinarizer\n",
        "from ast import literal_eval\n",
        "y = [literal_eval(i) for i in y]\n",
        "mlb = MultiLabelBinarizer()\n",
        "y_binarized = mlb.fit_transform(y)\n",
        "mlb.classes_"
      ]
    },
    {
      "cell_type": "markdown",
      "metadata": {
        "id": "V3VYMojVYO-U"
      },
      "source": [
        "Title preprocessing using fastText, to obtain sentence embeddings"
      ]
    },
    {
      "cell_type": "code",
      "execution_count": 7,
      "metadata": {
        "id": "a_8a6QIW2Reu"
      },
      "outputs": [
        {
          "name": "stderr",
          "output_type": "stream",
          "text": [
            "[nltk_data] Downloading package stopwords to\n",
            "[nltk_data]     /Users/siddhipotdar/nltk_data...\n",
            "[nltk_data]   Package stopwords is already up-to-date!\n"
          ]
        },
        {
          "data": {
            "text/plain": [
              "True"
            ]
          },
          "execution_count": 7,
          "metadata": {},
          "output_type": "execute_result"
        }
      ],
      "source": [
        "from nltk.corpus import stopwords\n",
        "import re\n",
        "import nltk\n",
        "nltk.download('stopwords')"
      ]
    },
    {
      "cell_type": "code",
      "execution_count": 8,
      "metadata": {
        "colab": {
          "background_save": true,
          "base_uri": "https://localhost:8080/"
        },
        "id": "6W7PXyjsa2uU",
        "outputId": "8945fee2-649f-4493-848f-e9e300b9159f"
      },
      "outputs": [],
      "source": [
        "# tokenize words and remove stopwords\n",
        "\n",
        "stopwords = nltk.corpus.stopwords.words('english')\n",
        "tokenizer = nltk.WordPunctTokenizer()\n",
        "\n",
        "def preprocess(text: str) -> str:\n",
        "    text = tokenizer.tokenize(text.lower().strip())\n",
        "    text = [ x for x in text if x not in stopwords]\n",
        "    return ' '.join(text)\n",
        "\n"
      ]
    },
    {
      "cell_type": "code",
      "execution_count": 9,
      "metadata": {},
      "outputs": [],
      "source": [
        "X_token = []\n",
        "for item in X:\n",
        "    item = re.sub(r'[^a-zA-Z\\s]','', item, re.I)\n",
        "    X_token.append(preprocess(item))\n",
        "    #print(item)\n",
        "    "
      ]
    },
    {
      "cell_type": "code",
      "execution_count": 10,
      "metadata": {
        "colab": {
          "base_uri": "https://localhost:8080/"
        },
        "id": "jXtbdBB7nTZr",
        "outputId": "cd97ad22-b6b0-4cb5-88df-4983bc80249f"
      },
      "outputs": [],
      "source": [
        "X_token = np.array(X_token)"
      ]
    },
    {
      "cell_type": "markdown",
      "metadata": {},
      "source": [
        "Uncomment the cell below to install fastText, if not already installed"
      ]
    },
    {
      "cell_type": "code",
      "execution_count": 11,
      "metadata": {},
      "outputs": [],
      "source": [
        "# !wget https://github.com/facebookresearch/fastText/archive/v0.9.2.zip\n",
        "# !unzip v0.9.2.zip\n",
        "# !cd fastText-0.9.2\n",
        "# !pip install ./fastText-0.9.2/.\n"
      ]
    },
    {
      "cell_type": "markdown",
      "metadata": {},
      "source": [
        "Finding fastttext sentence embeddings"
      ]
    },
    {
      "cell_type": "code",
      "execution_count": 12,
      "metadata": {},
      "outputs": [
        {
          "name": "stderr",
          "output_type": "stream",
          "text": [
            "Warning : `load_model` does not return WordVectorModel or SupervisedModel any more, but a `FastText` object which is very similar.\n"
          ]
        }
      ],
      "source": [
        "import fasttext\n",
        "import fasttext.util\n",
        "\n",
        "#fasttext.util.download_model('en', if_exists='ignore')\n",
        "model = fasttext.load_model('./fastText-0.9.2/cc.en.300.bin')\n",
        "    "
      ]
    },
    {
      "cell_type": "code",
      "execution_count": 13,
      "metadata": {},
      "outputs": [],
      "source": [
        "# make a dictionary, store repeating words from the dataset inside it\n",
        "\n",
        "embedding_map = dict()\n",
        "for sentence in X_token:\n",
        "    for word in sentence.split():\n",
        "        if word not in embedding_map:\n",
        "            embedding_map[word] = model.get_word_vector(word)"
      ]
    },
    {
      "cell_type": "code",
      "execution_count": 14,
      "metadata": {},
      "outputs": [],
      "source": [
        "def get_fasttext_embeddings(x_data, y_data):\n",
        "    sentence_embedding = []\n",
        "    sample = 0\n",
        "    for sentence in x_data:\n",
        "        word_embedding = np.zeros((300,))\n",
        "        count = 0\n",
        "        for word in sentence.split():\n",
        "            word_embedding+=embedding_map[word]\n",
        "            count += 1\n",
        "        if count != 0:\n",
        "            sentence_embedding.append(word_embedding/count)\n",
        "        else:\n",
        "            sentence_embedding.append(word_embedding)\n",
        "        sample+=1\n",
        "    return np.array(sentence_embedding), y_data\n"
      ]
    },
    {
      "cell_type": "code",
      "execution_count": 15,
      "metadata": {},
      "outputs": [],
      "source": [
        "X_embeddings, y_label = get_fasttext_embeddings(X_token, y_binarized)"
      ]
    },
    {
      "cell_type": "code",
      "execution_count": 16,
      "metadata": {},
      "outputs": [
        {
          "data": {
            "text/plain": [
              "381732"
            ]
          },
          "execution_count": 16,
          "metadata": {},
          "output_type": "execute_result"
        }
      ],
      "source": [
        "len(X_embeddings)\n",
        "#len(train_label)"
      ]
    },
    {
      "cell_type": "code",
      "execution_count": 17,
      "metadata": {},
      "outputs": [
        {
          "data": {
            "text/plain": [
              "381732"
            ]
          },
          "execution_count": 17,
          "metadata": {},
          "output_type": "execute_result"
        }
      ],
      "source": [
        "len(y_label)"
      ]
    },
    {
      "cell_type": "code",
      "execution_count": 18,
      "metadata": {},
      "outputs": [
        {
          "data": {
            "text/plain": [
              "array([[0, 0, 0, ..., 0, 0, 0],\n",
              "       [0, 0, 0, ..., 0, 0, 0],\n",
              "       [0, 0, 0, ..., 0, 0, 0],\n",
              "       ...,\n",
              "       [0, 0, 0, ..., 0, 0, 0],\n",
              "       [0, 0, 0, ..., 0, 0, 0],\n",
              "       [0, 0, 0, ..., 0, 0, 0]])"
            ]
          },
          "execution_count": 18,
          "metadata": {},
          "output_type": "execute_result"
        }
      ],
      "source": [
        "y_label"
      ]
    },
    {
      "cell_type": "markdown",
      "metadata": {},
      "source": [
        "Saving obtained sentence embeddings"
      ]
    },
    {
      "cell_type": "code",
      "execution_count": 19,
      "metadata": {},
      "outputs": [],
      "source": [
        "np.save('./data/X_fasttext_embeddings', X_embeddings)\n",
        "np.save('./data/y_binarized', y_label)\n",
        "np.save('./data/y_tags',mlb.classes_)"
      ]
    }
  ],
  "metadata": {
    "colab": {
      "provenance": []
    },
    "kernelspec": {
      "display_name": "Python 3.9.12 ('base')",
      "language": "python",
      "name": "python3"
    },
    "language_info": {
      "codemirror_mode": {
        "name": "ipython",
        "version": 3
      },
      "file_extension": ".py",
      "mimetype": "text/x-python",
      "name": "python",
      "nbconvert_exporter": "python",
      "pygments_lexer": "ipython3",
      "version": "3.9.12"
    },
    "orig_nbformat": 4,
    "vscode": {
      "interpreter": {
        "hash": "dfad143759263861f218098ffac96349330b525a4ec8957cf3d4a95ef932a418"
      }
    }
  },
  "nbformat": 4,
  "nbformat_minor": 0
}
