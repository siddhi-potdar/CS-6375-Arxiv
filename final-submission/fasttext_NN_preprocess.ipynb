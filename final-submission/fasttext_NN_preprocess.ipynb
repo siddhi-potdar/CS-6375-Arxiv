{
 "cells": [
  {
   "cell_type": "code",
   "execution_count": 24,
   "id": "ca0e472b",
   "metadata": {},
   "outputs": [],
   "source": [
    "import fasttext\n",
    "import pandas as pd\n",
    "import numpy as np\n",
    "import matplotlib.pyplot as plt\n",
    "from sklearn.model_selection import train_test_split"
   ]
  },
  {
   "cell_type": "markdown",
   "id": "22b87ed4",
   "metadata": {},
   "source": [
    "Loading and processing the csv data"
   ]
  },
  {
   "cell_type": "code",
   "execution_count": 18,
   "id": "9602bd45",
   "metadata": {},
   "outputs": [],
   "source": [
    "df = pd.read_csv(\"data/103_classes_filtered.csv\")\n",
    "X = df['title']\n",
    "y = df['categories']\n",
    "\n",
    "def clean_alt_list(list_):\n",
    "    list_ = list_.replace(']', '')\n",
    "    list_ = list_.replace('[', '')\n",
    "    list_ = list_.replace('\"', '')\n",
    "    list_ = list_.replace(\"'\", '')\n",
    "    \n",
    "    return list_\n",
    "\n",
    "y = y.apply(clean_alt_list)\n"
   ]
  },
  {
   "cell_type": "markdown",
   "id": "99b3eb7d",
   "metadata": {},
   "source": [
    "Labels in fastText need to be appended with \\__label__"
   ]
  },
  {
   "cell_type": "code",
   "execution_count": 20,
   "id": "113892ef",
   "metadata": {},
   "outputs": [],
   "source": [
    "y_new = []\n",
    "for item in y:\n",
    "    label_list = item.split(\",\")\n",
    "    new_label_list = [\"__label__\" +  x.strip() for x in label_list]\n",
    "    y_new.append(\" \".join(new_label_list))\n"
   ]
  },
  {
   "cell_type": "markdown",
   "id": "96d8460b",
   "metadata": {},
   "source": [
    "Saving data in csv"
   ]
  },
  {
   "cell_type": "code",
   "execution_count": 22,
   "id": "55abc4d1",
   "metadata": {},
   "outputs": [],
   "source": [
    "df = pd.DataFrame(np.c_[X, y_new], columns=['title', 'categories'])\n",
    "df.to_csv('./data/fasttext_format_103_classes_filtered.csv', sep ='\\t')\n"
   ]
  },
  {
   "cell_type": "code",
   "execution_count": 28,
   "id": "55c79ac0",
   "metadata": {},
   "outputs": [],
   "source": [
    "X = df['title']\n",
    "y = df['categories']"
   ]
  },
  {
   "cell_type": "markdown",
   "id": "64acae29",
   "metadata": {},
   "source": [
    "Making train test val splits and saving them for implementation"
   ]
  },
  {
   "cell_type": "code",
   "execution_count": 29,
   "id": "dfddc6be",
   "metadata": {},
   "outputs": [],
   "source": [
    "X_train, X_test, y_train, y_test = train_test_split(X, y, test_size=0.4, random_state=1)\n",
    "#creating a validation set for hyperparameter tuning\n",
    "X_test, X_val, y_test, y_val = train_test_split(X_test, y_test, test_size=0.5, random_state=1)"
   ]
  },
  {
   "cell_type": "code",
   "execution_count": 31,
   "id": "3dc8c0b0",
   "metadata": {},
   "outputs": [],
   "source": [
    "df_train = pd.DataFrame(np.c_[X_train, y_train])\n",
    "df_train.to_csv('./data/fasttext_format_train_filtered.csv', sep ='\\t')\n",
    "\n",
    "df_test = pd.DataFrame(np.c_[X_test, y_test])\n",
    "df_test.to_csv('./data/fasttext_format_test_filtered.csv', sep ='\\t')\n",
    "\n",
    "df_val = pd.DataFrame(np.c_[X_val, y_val])\n",
    "df_val.to_csv('./data/fasttext_format_val_filtered.csv', sep ='\\t')"
   ]
  }
 ],
 "metadata": {
  "kernelspec": {
   "display_name": "Python 3.9.12 ('base')",
   "language": "python",
   "name": "python3"
  },
  "language_info": {
   "codemirror_mode": {
    "name": "ipython",
    "version": 3
   },
   "file_extension": ".py",
   "mimetype": "text/x-python",
   "name": "python",
   "nbconvert_exporter": "python",
   "pygments_lexer": "ipython3",
   "version": "3.9.12"
  },
  "vscode": {
   "interpreter": {
    "hash": "dfad143759263861f218098ffac96349330b525a4ec8957cf3d4a95ef932a418"
   }
  }
 },
 "nbformat": 4,
 "nbformat_minor": 5
}
