{
 "cells": [
  {
   "cell_type": "code",
   "execution_count": 17,
   "id": "ca0e472b",
   "metadata": {},
   "outputs": [],
   "source": [
    "import fasttext\n",
    "import pandas as pd\n",
    "import numpy as np\n",
    "import matplotlib.pyplot as plt\n",
    "from sklearn.model_selection import train_test_split\n",
    "from sklearn.metrics import confusion_matrix, accuracy_score, f1_score\n",
    "from sklearn.preprocessing import MultiLabelBinarizer\n",
    "\n",
    "#model = fasttext.train_supervised(input=\"data/103_classes_filtered.csv\", lr=0.5, epoch=25, wordNgrams=2, bucket=200000, dim=50, loss='ova')"
   ]
  },
  {
   "cell_type": "markdown",
   "id": "7627f4e8",
   "metadata": {},
   "source": [
    "fastText pre-processed data"
   ]
  },
  {
   "cell_type": "code",
   "execution_count": 18,
   "id": "9602bd45",
   "metadata": {},
   "outputs": [],
   "source": [
    "X_train = \"../data/fasttext_format_train_filtered.csv\"\n",
    "X_test = \"../data/fasttext_format_test_filtered.csv\"\n",
    "X_val = \"../data/fasttext_format_val_filtered.csv\"\n"
   ]
  },
  {
   "cell_type": "markdown",
   "id": "ee80c9fe",
   "metadata": {},
   "source": [
    "Training 3 models with different hyperparameters"
   ]
  },
  {
   "cell_type": "code",
   "execution_count": 19,
   "id": "ab2e6d64",
   "metadata": {},
   "outputs": [
    {
     "name": "stderr",
     "output_type": "stream",
     "text": [
      "Read 3M words\n",
      "Number of words:  393627\n",
      "Number of labels: 103\n",
      "Progress: 100.0% words/sec/thread:  774040 lr:  0.000000 avg.loss: 35.419624 ETA:   0h 0m 0s\n"
     ]
    }
   ],
   "source": [
    "model_1 = fasttext.train_supervised(input=X_train, lr=0.5, epoch=20, wordNgrams=2, bucket=200000, dim=50, loss='ova')"
   ]
  },
  {
   "cell_type": "code",
   "execution_count": 20,
   "id": "a11acab1",
   "metadata": {},
   "outputs": [
    {
     "name": "stderr",
     "output_type": "stream",
     "text": [
      "Read 3M words\n",
      "Number of words:  393627\n",
      "Number of labels: 103\n",
      "Progress: 100.0% words/sec/thread:  708250 lr:  0.000000 avg.loss:  4.923187 ETA:   0h 0m 0s 47.0% words/sec/thread:  712538 lr:  0.211969 avg.loss:  8.049754 ETA:   0h 0m 9s\n"
     ]
    }
   ],
   "source": [
    "model_2 = fasttext.train_supervised(input=X_train, lr=0.4, epoch=30, wordNgrams=2, bucket=200000, dim=50, loss='ova')"
   ]
  },
  {
   "cell_type": "code",
   "execution_count": 21,
   "id": "46d15a60",
   "metadata": {},
   "outputs": [
    {
     "name": "stderr",
     "output_type": "stream",
     "text": [
      "Read 3M words\n",
      "Number of words:  393627\n",
      "Number of labels: 103\n",
      "Progress: 100.0% words/sec/thread:  696153 lr:  0.000000 avg.loss: 35.285130 ETA:   0h 0m 0s\n"
     ]
    }
   ],
   "source": [
    "model_3 = fasttext.train_supervised(input=X_train, lr=0.5, epoch=20, wordNgrams=4, bucket=200000, dim=50, loss='ova')"
   ]
  },
  {
   "cell_type": "markdown",
   "id": "9584ad0b",
   "metadata": {},
   "source": [
    "Saving models for future"
   ]
  },
  {
   "cell_type": "code",
   "execution_count": 22,
   "id": "5e148cc5",
   "metadata": {},
   "outputs": [],
   "source": [
    "model_1.save_model(\"../models/model_1_fasttext.bin\")\n",
    "model_2.save_model(\"../models/model_2_fasttext.bin\")\n",
    "model_3.save_model(\"../models/model_3_fasttext.bin\")\n"
   ]
  },
  {
   "cell_type": "markdown",
   "id": "9e4cb439",
   "metadata": {},
   "source": [
    "Transforming data for train and validation set"
   ]
  },
  {
   "cell_type": "code",
   "execution_count": 23,
   "id": "cb826159",
   "metadata": {},
   "outputs": [],
   "source": [
    "df_val = pd.read_csv(X_val, sep='\\t')\n",
    "val_list = df_val['0'].to_list()\n",
    "y_val_list= df_val['1'].to_list()\n",
    "y_val_final = []\n",
    "for i in y_val_list:\n",
    "    y_val_final.append(i.split(' '))\n",
    "mlb_test =  MultiLabelBinarizer()\n",
    "y_val_final = mlb_test.fit_transform(y_val_final)\n",
    "classes_li = mlb_test.classes_"
   ]
  },
  {
   "cell_type": "code",
   "execution_count": 24,
   "id": "715c6216",
   "metadata": {},
   "outputs": [],
   "source": [
    "df_tr = pd.read_csv(X_train, sep='\\t')\n",
    "tr_list = df_tr['0'].to_list()\n",
    "y_tr_list= df_tr['1'].to_list()\n",
    "y_tr_final = []\n",
    "for i in y_tr_list:\n",
    "    y_tr_final.append(i.split(' '))\n",
    "y_tr_final = mlb_test.transform(y_tr_final)\n",
    "classes_li = mlb_test.classes_"
   ]
  },
  {
   "cell_type": "code",
   "execution_count": 25,
   "id": "12fe2fce",
   "metadata": {},
   "outputs": [],
   "source": [
    "def get_predictions(val_list, model):\n",
    "    y_pred = []\n",
    "    for i in val_list:\n",
    "        y_i = model.predict(i.replace(\"\\n\", \"\"), k=-1, threshold=0.7)\n",
    "        y_pred.append(y_i)\n",
    "    return y_pred"
   ]
  },
  {
   "cell_type": "markdown",
   "id": "57e64418",
   "metadata": {},
   "source": [
    "Cleaning predictions for better interpretation"
   ]
  },
  {
   "cell_type": "code",
   "execution_count": 26,
   "id": "5e8222fd",
   "metadata": {},
   "outputs": [],
   "source": [
    "def clean_pred(pred):\n",
    "    pred_li = []\n",
    "    for i in range(0,len(pred)):\n",
    "        pred_li.append(list(pred[i][0]))\n",
    "    pred_li_b = mlb_test.transform(pred_li)    \n",
    "    return pred_li_b"
   ]
  },
  {
   "cell_type": "code",
   "execution_count": 27,
   "id": "e864c962",
   "metadata": {},
   "outputs": [],
   "source": [
    "y_pred1 = get_predictions(val_list, model_1)\n",
    "y_pred2 = get_predictions(val_list, model_2)\n",
    "y_pred3 = get_predictions(val_list, model_3)\n",
    "\n",
    "y_pred1_tr = get_predictions(tr_list, model_1)\n",
    "y_pred2_tr = get_predictions(tr_list, model_2)\n",
    "y_pred3_tr = get_predictions(tr_list, model_3)\n",
    "\n",
    "y_pred1_li = clean_pred(y_pred1)\n",
    "y_pred2_li = clean_pred(y_pred2)\n",
    "y_pred3_li = clean_pred(y_pred3)\n",
    "\n",
    "y_pred1_li_tr = clean_pred(y_pred1_tr)\n",
    "y_pred2_li_tr = clean_pred(y_pred2_tr)\n",
    "y_pred3_li_tr = clean_pred(y_pred3_tr)"
   ]
  },
  {
   "cell_type": "markdown",
   "id": "331dacc8",
   "metadata": {},
   "source": [
    "Evaluation metrics calculation"
   ]
  },
  {
   "cell_type": "code",
   "execution_count": 28,
   "id": "0aa2f5df",
   "metadata": {},
   "outputs": [],
   "source": [
    "def get_metrics(y_pred, y_true, classes):\n",
    "    cm = {}\n",
    "    accuracy = []\n",
    "    f1 = []\n",
    "    for i in range(len(classes)):\n",
    "        #print(classes[i])\n",
    "        cm[classes[i]] = confusion_matrix(y_pred=y_pred[:,i], y_true=y_true[:,i])\n",
    "        accuracy.append(accuracy_score(y_pred=y_pred[:,i], y_true=y_true[:,i]))\n",
    "        f1.append(f1_score(y_pred=y_pred[:,i], y_true=y_true[:,i]))\n",
    "    return cm ,accuracy, f1 "
   ]
  },
  {
   "cell_type": "code",
   "execution_count": 29,
   "id": "49f5e4b5",
   "metadata": {},
   "outputs": [],
   "source": [
    "cm1, v_accuracy1, f1_1 = get_metrics(y_pred1_li, y_val_final, classes_li)\n",
    "cm2, v_accuracy2, f1_2 = get_metrics(y_pred2_li, y_val_final, classes_li)\n",
    "cm3, v_accuracy3, f1_3 = get_metrics(y_pred3_li, y_val_final, classes_li)\n",
    "\n",
    "cm1_tr, v_accuracy1_tr, f1_1_tr = get_metrics(y_pred1_li_tr, y_tr_final, classes_li)\n",
    "cm2_tr, v_accuracy2_tr, f1_2_tr = get_metrics(y_pred2_li_tr, y_tr_final, classes_li)\n",
    "cm3_tr, v_accuracy3_tr, f1_3_tr = get_metrics(y_pred3_li_tr, y_tr_final, classes_li)\n"
   ]
  },
  {
   "cell_type": "markdown",
   "id": "647a2114",
   "metadata": {},
   "source": [
    "Plot for train / val accuracy"
   ]
  },
  {
   "cell_type": "code",
   "execution_count": 30,
   "id": "bcaf5e36",
   "metadata": {},
   "outputs": [
    {
     "data": {
      "image/png": "[encoded data removed]",
      "text/plain": [
       "<Figure size 1440x288 with 1 Axes>"
      ]
     },
     "metadata": {
      "needs_background": "light"
     },
     "output_type": "display_data"
    }
   ],
   "source": [
    "plt.close(\"all\")\n",
    "fig, ax = plt.subplots(figsize = (20, 4))\n",
    "new_tags = classes_li[np.argsort(v_accuracy3_tr)]\n",
    "idx = np.arange(len(classes_li))\n",
    "width = 0.5\n",
    "ax.plot(sorted(v_accuracy3))\n",
    "ax.plot(sorted(v_accuracy3_tr))\n",
    "\n",
    "xticks_idx = idx[::2]\n",
    "\n",
    "ax.set_xticks(xticks_idx)\n",
    "ax.set_xticklabels([new_tags[x] for x in xticks_idx], rotation=90)\n",
    "ax.set_ylabel(\"accuracy-score\")\n",
    "ax.set_xlabel(\"Classes\")\n",
    "ax.legend(['validation', 'train'])\n",
    "#plt.yscale(\"log\")\n",
    "plt.show()\n",
    "fig.savefig(\"fasttext_acc_plot.pdf\", bbox_inches=\"tight\")"
   ]
  },
  {
   "cell_type": "markdown",
   "id": "2e76ff69",
   "metadata": {},
   "source": [
    "Mean score for each model"
   ]
  },
  {
   "cell_type": "code",
   "execution_count": 31,
   "id": "72c37430",
   "metadata": {},
   "outputs": [
    {
     "name": "stdout",
     "output_type": "stream",
     "text": [
      "mean f1 score for model 1:  0.30993867968226085\n",
      "mean f1 score for model 2:  0.42922964747221765\n",
      "mean f1 score for model 3:  0.2939429471115569\n",
      "mean accuracy for model 1:  0.9899710718339629\n",
      "mean accuracy for model 2:  0.9917407006967434\n",
      "mean accuracy for model 3:  0.9892664836446751\n"
     ]
    }
   ],
   "source": [
    "print(\"mean f1 score for model 1: \", np.mean(f1_1_tr))\n",
    "print(\"mean f1 score for model 2: \", np.mean(f1_2_tr))\n",
    "print(\"mean f1 score for model 3: \", np.mean(f1_3_tr))\n",
    "print(\"mean accuracy for model 1: \", np.mean(v_accuracy1_tr))\n",
    "print(\"mean accuracy for model 2: \", np.mean(v_accuracy2_tr))\n",
    "print(\"mean accuracy for model 3: \", np.mean(v_accuracy3_tr))\n"
   ]
  },
  {
   "cell_type": "markdown",
   "id": "d051e155",
   "metadata": {},
   "source": [
    "Getting results on the test set"
   ]
  },
  {
   "cell_type": "code",
   "execution_count": 32,
   "id": "cb826159",
   "metadata": {},
   "outputs": [],
   "source": [
    "df_test = pd.read_csv(X_test, sep='\\t')\n",
    "test_list = df_test['0'].to_list()\n",
    "y_test_list= df_test['1'].to_list()\n",
    "y_test_final = []\n",
    "for i in y_test_list:\n",
    "    y_test_final.append(i.split(' '))\n",
    "y_test_final = mlb_test.transform(y_test_final)"
   ]
  },
  {
   "cell_type": "code",
   "execution_count": 33,
   "id": "98593ea6",
   "metadata": {},
   "outputs": [],
   "source": [
    "y_pred_test = get_predictions(test_list, model_3)\n",
    "y_pred_test_clean = clean_pred(y_pred_test)\n",
    "cm_test, accuracy_test, f1_test = get_metrics(y_pred_test_clean, y_test_final, classes_li)\n"
   ]
  },
  {
   "cell_type": "code",
   "execution_count": 34,
   "id": "ca2cbd84",
   "metadata": {},
   "outputs": [
    {
     "name": "stdout",
     "output_type": "stream",
     "text": [
      "mean f1 score for model 3, on test data:  0.1377935223655156\n",
      "mean accuracy for model 3, on test data:  0.983559695940959\n"
     ]
    }
   ],
   "source": [
    "print(\"mean f1 score for model 3, on test data: \", np.mean(f1_test))\n",
    "print(\"mean accuracy for model 3, on test data: \", np.mean(accuracy_test))\n"
   ]
  },
  {
   "cell_type": "code",
   "execution_count": 35,
   "id": "e529b9b0",
   "metadata": {},
   "outputs": [
    {
     "name": "stdout",
     "output_type": "stream",
     "text": [
      "Minimum accuracy score on test:  0.7893558229986511  for class  __label__cs.LG\n",
      "Maximum accuracy score on test:  0.9994106939406241  for class  __label__cond-mat.mtrl-sci\n"
     ]
    }
   ],
   "source": [
    "print(\"Minimum accuracy score on test: \", min(accuracy_test), \" for class \", classes_li[np.argmin(accuracy_test)])\n",
    "print(\"Maximum accuracy score on test: \", max(accuracy_test), \" for class \", classes_li[np.argmax(accuracy_test)])\n"
   ]
  },
  {
   "cell_type": "code",
   "execution_count": 36,
   "id": "26d6145e",
   "metadata": {},
   "outputs": [
    {
     "data": {
      "text/plain": [
       "<sklearn.metrics._plot.confusion_matrix.ConfusionMatrixDisplay at 0x7fd242965100>"
      ]
     },
     "execution_count": 36,
     "metadata": {},
     "output_type": "execute_result"
    },
    {
     "data": {
      "image/png": "[encoded data removed]",
      "text/plain": [
       "<Figure size 432x288 with 2 Axes>"
      ]
     },
     "metadata": {
      "needs_background": "light"
     },
     "output_type": "display_data"
    }
   ],
   "source": [
    "from sklearn.metrics import ConfusionMatrixDisplay\n",
    "ConfusionMatrixDisplay(cm_test[classes_li[26]]).plot()\n",
    "# 26 is the index of class cs_lG that has maximum frequency in the dataset"
   ]
  }
 ],
 "metadata": {
  "kernelspec": {
   "display_name": "Python 3.9.12 ('base')",
   "language": "python",
   "name": "python3"
  },
  "language_info": {
   "codemirror_mode": {
    "name": "ipython",
    "version": 3
   },
   "file_extension": ".py",
   "mimetype": "text/x-python",
   "name": "python",
   "nbconvert_exporter": "python",
   "pygments_lexer": "ipython3",
   "version": "3.9.12"
  },
  "vscode": {
   "interpreter": {
    "hash": "dfad143759263861f218098ffac96349330b525a4ec8957cf3d4a95ef932a418"
   }
  }
 },
 "nbformat": 4,
 "nbformat_minor": 5
}
