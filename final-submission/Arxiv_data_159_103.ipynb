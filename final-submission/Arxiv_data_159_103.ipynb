{
  "cells": [
    {
      "cell_type": "code",
      "execution_count": 1,
      "metadata": {
        "id": "EiyUOsN7zBt8"
      },
      "outputs": [],
      "source": [
        "import pandas as pd\n",
        "import numpy as np\n",
        "import matplotlib.pyplot as plt"
      ]
    },
    {
      "cell_type": "code",
      "execution_count": 2,
      "metadata": {
        "colab": {
          "base_uri": "https://localhost:8080/",
          "height": 222
        },
        "id": "6W61Kbzy8caY",
        "outputId": "567eeb63-0769-4d24-c0e4-8dd73a745226"
      },
      "outputs": [
        {
          "name": "stderr",
          "output_type": "stream",
          "text": [
            "/var/folders/j_/nltc_4q91zb8yfp_c05n9dxm0000gn/T/ipykernel_62045/812588450.py:1: DtypeWarning: Columns (0) have mixed types. Specify dtype option on import or set low_memory=False.\n",
            "  df = pd.read_csv(\"../data/clean_data.csv\")\n"
          ]
        }
      ],
      "source": [
        "df = pd.read_csv(\"../data/clean_data.csv\")"
      ]
    },
    {
      "cell_type": "code",
      "execution_count": 3,
      "metadata": {},
      "outputs": [],
      "source": [
        "df.drop(columns=['id', 'authors', 'abstract'], inplace=True)"
      ]
    },
    {
      "cell_type": "code",
      "execution_count": 4,
      "metadata": {
        "id": "1ZDX0q-_1RaH"
      },
      "outputs": [],
      "source": [
        "df['categories'] = df['categories'].str.split(' ')"
      ]
    },
    {
      "cell_type": "code",
      "execution_count": 5,
      "metadata": {
        "colab": {
          "base_uri": "https://localhost:8080/",
          "height": 616
        },
        "id": "wxDuV4tSwwZi",
        "outputId": "cbc92014-e068-47f2-f677-47ee387e79f2"
      },
      "outputs": [
        {
          "data": {
            "text/html": [
              "<div>\n",
              "<style scoped>\n",
              "    .dataframe tbody tr th:only-of-type {\n",
              "        vertical-align: middle;\n",
              "    }\n",
              "\n",
              "    .dataframe tbody tr th {\n",
              "        vertical-align: top;\n",
              "    }\n",
              "\n",
              "    .dataframe thead th {\n",
              "        text-align: right;\n",
              "    }\n",
              "</style>\n",
              "<table border=\"1\" class=\"dataframe\">\n",
              "  <thead>\n",
              "    <tr style=\"text-align: right;\">\n",
              "      <th></th>\n",
              "      <th>title</th>\n",
              "      <th>categories</th>\n",
              "    </tr>\n",
              "  </thead>\n",
              "  <tbody>\n",
              "    <tr>\n",
              "      <th>0</th>\n",
              "      <td>Intelligent location of simultaneously active ...</td>\n",
              "      <td>[cs.NE, cs.AI]</td>\n",
              "    </tr>\n",
              "    <tr>\n",
              "      <th>1</th>\n",
              "      <td>Intelligent location of simultaneously active ...</td>\n",
              "      <td>[cs.NE, cs.AI]</td>\n",
              "    </tr>\n",
              "    <tr>\n",
              "      <th>2</th>\n",
              "      <td>On-line Viterbi Algorithm and Its Relationship...</td>\n",
              "      <td>[cs.DS]</td>\n",
              "    </tr>\n",
              "    <tr>\n",
              "      <th>3</th>\n",
              "      <td>Real Options for Project Schedules (ROPS)</td>\n",
              "      <td>[cs.CE, cond-mat.stat-mech, cs.MS, cs.NA, phys...</td>\n",
              "    </tr>\n",
              "    <tr>\n",
              "      <th>4</th>\n",
              "      <td>Sparsely-spread CDMA - a statistical mechanics...</td>\n",
              "      <td>[cs.IT, math.IT]</td>\n",
              "    </tr>\n",
              "    <tr>\n",
              "      <th>...</th>\n",
              "      <td>...</td>\n",
              "      <td>...</td>\n",
              "    </tr>\n",
              "    <tr>\n",
              "      <th>383509</th>\n",
              "      <td>Mixed-Level Knowledge Representation and Varia...</td>\n",
              "      <td>[cs.CL]</td>\n",
              "    </tr>\n",
              "    <tr>\n",
              "      <th>383510</th>\n",
              "      <td>Computation in an algebra of test selection cr...</td>\n",
              "      <td>[cs.SE]</td>\n",
              "    </tr>\n",
              "    <tr>\n",
              "      <th>383511</th>\n",
              "      <td>Quantum Bit Commitment Expansion</td>\n",
              "      <td>[cs.CR]</td>\n",
              "    </tr>\n",
              "    <tr>\n",
              "      <th>383512</th>\n",
              "      <td>Additive models in high dimensions</td>\n",
              "      <td>[cs.DS]</td>\n",
              "    </tr>\n",
              "    <tr>\n",
              "      <th>383513</th>\n",
              "      <td>Seeing the Forest in the Tree: Applying VRML t...</td>\n",
              "      <td>[cs.MS, cs.CE]</td>\n",
              "    </tr>\n",
              "  </tbody>\n",
              "</table>\n",
              "<p>383514 rows × 2 columns</p>\n",
              "</div>"
            ],
            "text/plain": [
              "                                                    title  \\\n",
              "0       Intelligent location of simultaneously active ...   \n",
              "1       Intelligent location of simultaneously active ...   \n",
              "2       On-line Viterbi Algorithm and Its Relationship...   \n",
              "3               Real Options for Project Schedules (ROPS)   \n",
              "4       Sparsely-spread CDMA - a statistical mechanics...   \n",
              "...                                                   ...   \n",
              "383509  Mixed-Level Knowledge Representation and Varia...   \n",
              "383510  Computation in an algebra of test selection cr...   \n",
              "383511                   Quantum Bit Commitment Expansion   \n",
              "383512                 Additive models in high dimensions   \n",
              "383513  Seeing the Forest in the Tree: Applying VRML t...   \n",
              "\n",
              "                                               categories  \n",
              "0                                          [cs.NE, cs.AI]  \n",
              "1                                          [cs.NE, cs.AI]  \n",
              "2                                                 [cs.DS]  \n",
              "3       [cs.CE, cond-mat.stat-mech, cs.MS, cs.NA, phys...  \n",
              "4                                        [cs.IT, math.IT]  \n",
              "...                                                   ...  \n",
              "383509                                            [cs.CL]  \n",
              "383510                                            [cs.SE]  \n",
              "383511                                            [cs.CR]  \n",
              "383512                                            [cs.DS]  \n",
              "383513                                     [cs.MS, cs.CE]  \n",
              "\n",
              "[383514 rows x 2 columns]"
            ]
          },
          "execution_count": 5,
          "metadata": {},
          "output_type": "execute_result"
        }
      ],
      "source": [
        "df"
      ]
    },
    {
      "cell_type": "code",
      "execution_count": 6,
      "metadata": {},
      "outputs": [],
      "source": [
        "df.dropna(inplace=True)"
      ]
    },
    {
      "cell_type": "code",
      "execution_count": 7,
      "metadata": {},
      "outputs": [],
      "source": [
        "X = df['title']\n",
        "y=df['categories']"
      ]
    },
    {
      "cell_type": "code",
      "execution_count": 8,
      "metadata": {
        "colab": {
          "base_uri": "https://localhost:8080/"
        },
        "id": "1e9GTcYmzBt_",
        "outputId": "4489d766-8e8c-4efd-b75a-89f1948b9ab0"
      },
      "outputs": [
        {
          "data": {
            "text/plain": [
              "array(['adap-org', 'astro-ph', 'astro-ph.CO', 'astro-ph.EP',\n",
              "       'astro-ph.GA', 'astro-ph.HE', 'astro-ph.IM', 'astro-ph.SR',\n",
              "       'cond-mat', 'cond-mat.dis-nn', 'cond-mat.mes-hall',\n",
              "       'cond-mat.mtrl-sci', 'cond-mat.other', 'cond-mat.quant-gas',\n",
              "       'cond-mat.soft', 'cond-mat.stat-mech', 'cond-mat.str-el',\n",
              "       'cond-mat.supr-con', 'cs.AI', 'cs.AR', 'cs.CC', 'cs.CE', 'cs.CG',\n",
              "       'cs.CL', 'cs.CR', 'cs.CV', 'cs.CY', 'cs.DB', 'cs.DC', 'cs.DL',\n",
              "       'cs.DM', 'cs.DS', 'cs.ET', 'cs.FL', 'cs.GL', 'cs.GR', 'cs.GT',\n",
              "       'cs.HC', 'cs.IR', 'cs.IT', 'cs.LG', 'cs.LO', 'cs.MA', 'cs.MM',\n",
              "       'cs.MS', 'cs.NA', 'cs.NE', 'cs.NI', 'cs.OH', 'cs.OS', 'cs.PF',\n",
              "       'cs.PL', 'cs.RO', 'cs.SC', 'cs.SD', 'cs.SE', 'cs.SI', 'cs.SY',\n",
              "       'econ.EM', 'econ.GN', 'econ.TH', 'eess.AS', 'eess.IV', 'eess.SP',\n",
              "       'eess.SY', 'gr-qc', 'hep-ex', 'hep-lat', 'hep-ph', 'hep-th',\n",
              "       'math-ph', 'math.AC', 'math.AG', 'math.AP', 'math.AT', 'math.CA',\n",
              "       'math.CO', 'math.CT', 'math.CV', 'math.DG', 'math.DS', 'math.FA',\n",
              "       'math.GM', 'math.GN', 'math.GR', 'math.GT', 'math.HO', 'math.IT',\n",
              "       'math.LO', 'math.MG', 'math.MP', 'math.NA', 'math.NT', 'math.OA',\n",
              "       'math.OC', 'math.PR', 'math.QA', 'math.RA', 'math.RT', 'math.SG',\n",
              "       'math.SP', 'math.ST', 'nlin.AO', 'nlin.CD', 'nlin.CG', 'nlin.PS',\n",
              "       'nlin.SI', 'nucl-ex', 'nucl-th', 'physics.acc-ph', 'physics.ao-ph',\n",
              "       'physics.app-ph', 'physics.atm-clus', 'physics.atom-ph',\n",
              "       'physics.bio-ph', 'physics.chem-ph', 'physics.class-ph',\n",
              "       'physics.comp-ph', 'physics.data-an', 'physics.ed-ph',\n",
              "       'physics.flu-dyn', 'physics.gen-ph', 'physics.geo-ph',\n",
              "       'physics.hist-ph', 'physics.ins-det', 'physics.med-ph',\n",
              "       'physics.optics', 'physics.plasm-ph', 'physics.pop-ph',\n",
              "       'physics.soc-ph', 'physics.space-ph', 'q-bio', 'q-bio.BM',\n",
              "       'q-bio.CB', 'q-bio.GN', 'q-bio.MN', 'q-bio.NC', 'q-bio.OT',\n",
              "       'q-bio.PE', 'q-bio.QM', 'q-bio.SC', 'q-bio.TO', 'q-fin.CP',\n",
              "       'q-fin.EC', 'q-fin.GN', 'q-fin.MF', 'q-fin.PM', 'q-fin.PR',\n",
              "       'q-fin.RM', 'q-fin.ST', 'q-fin.TR', 'quant-ph', 'solv-int',\n",
              "       'stat.AP', 'stat.CO', 'stat.ME', 'stat.ML', 'stat.OT', 'stat.TH'],\n",
              "      dtype=object)"
            ]
          },
          "execution_count": 8,
          "metadata": {},
          "output_type": "execute_result"
        }
      ],
      "source": [
        "# binarizing for ease\n",
        "from sklearn.preprocessing import MultiLabelBinarizer\n",
        "mlb = MultiLabelBinarizer()\n",
        "y_binarized = mlb.fit_transform(y)\n",
        "mlb.classes_"
      ]
    },
    {
      "cell_type": "code",
      "execution_count": 9,
      "metadata": {
        "colab": {
          "base_uri": "https://localhost:8080/"
        },
        "id": "zIzzKETX_FqM",
        "outputId": "93abf77d-64fb-4604-d389-410b36964e0d"
      },
      "outputs": [
        {
          "data": {
            "text/plain": [
              "array([[0, 0, 0, ..., 0, 0, 0],\n",
              "       [0, 0, 0, ..., 0, 0, 0],\n",
              "       [0, 0, 0, ..., 0, 0, 0],\n",
              "       ...,\n",
              "       [0, 0, 0, ..., 0, 0, 0],\n",
              "       [0, 0, 0, ..., 0, 0, 0],\n",
              "       [0, 0, 0, ..., 0, 0, 0]])"
            ]
          },
          "execution_count": 9,
          "metadata": {},
          "output_type": "execute_result"
        }
      ],
      "source": [
        "y_binarized"
      ]
    },
    {
      "cell_type": "code",
      "execution_count": 10,
      "metadata": {
        "colab": {
          "base_uri": "https://localhost:8080/"
        },
        "id": "yQ5dZSvjzBuA",
        "outputId": "3c16fef9-55d3-4513-cc38-1db513ac0b82"
      },
      "outputs": [
        {
          "name": "stdout",
          "output_type": "stream",
          "text": [
            "           class  count\n",
            "0       adap-org      7\n",
            "1       astro-ph     23\n",
            "2    astro-ph.CO     22\n",
            "3    astro-ph.EP     19\n",
            "4    astro-ph.GA     19\n",
            "..           ...    ...\n",
            "154      stat.CO    522\n",
            "155      stat.ME    786\n",
            "156      stat.ML  34792\n",
            "157      stat.OT     98\n",
            "158      stat.TH   1353\n",
            "\n",
            "[159 rows x 2 columns]\n"
          ]
        }
      ],
      "source": [
        "# class distribution \n",
        "class_sum = np.sum(y_binarized, axis =0)\n",
        "class_distribution = pd.DataFrame(columns=['class','count'])\n",
        "for i in range(len(mlb.classes_)):\n",
        "    class_distribution.loc[i] = [mlb.classes_[i],class_sum[i]]\n",
        "print(class_distribution)"
      ]
    },
    {
      "cell_type": "code",
      "execution_count": 11,
      "metadata": {
        "id": "7gkqMuq40Bph"
      },
      "outputs": [
        {
          "data": {
            "image/png": "[encoded data removed]",
            "text/plain": [
              "<Figure size 1440x288 with 1 Axes>"
            ]
          },
          "metadata": {
            "needs_background": "light"
          },
          "output_type": "display_data"
        }
      ],
      "source": [
        "# plotting graph of sorted distribution \n",
        "class_distribution_sorted = class_distribution.sort_values('count', ascending=False)\n",
        "plt.close(\"all\")\n",
        "fig, ax = plt.subplots(figsize = (20, 4))\n",
        "idx = np.arange(len(class_distribution_sorted['count']))\n",
        "width = 0.5\n",
        "ax.bar(idx, class_distribution_sorted['count'], width=width)\n",
        "\n",
        "xticks_idx = idx[::2]\n",
        "\n",
        "ax.set_xticks(xticks_idx)\n",
        "ax.set_xticklabels([class_distribution_sorted['class'][x] for x in xticks_idx], rotation=90)\n",
        "ax.set_ylabel(\"Count\")\n",
        "ax.set_xlabel(\"Classes\")\n",
        "plt.yscale(\"log\")\n",
        "plt.show()\n",
        "fig.savefig(\"classes_159.pdf\", bbox_inches=\"tight\")"
      ]
    },
    {
      "cell_type": "code",
      "execution_count": 12,
      "metadata": {},
      "outputs": [
        {
          "name": "stdout",
          "output_type": "stream",
          "text": [
            "class    56\n",
            "count    56\n",
            "dtype: int64\n",
            "['adap-org', 'astro-ph', 'astro-ph.CO', 'astro-ph.EP', 'astro-ph.GA', 'astro-ph.HE', 'astro-ph.SR', 'cond-mat', 'cond-mat.mes-hall', 'cond-mat.other', 'cond-mat.quant-gas', 'cond-mat.soft', 'cond-mat.str-el', 'cond-mat.supr-con', 'gr-qc', 'hep-lat', 'hep-ph', 'hep-th', 'math.CV', 'math.GM', 'math.GN', 'math.GT', 'math.HO', 'math.OA', 'math.QA', 'math.SG', 'math.SP', 'nlin.PS', 'nlin.SI', 'nucl-ex', 'nucl-th', 'physics.acc-ph', 'physics.atm-clus', 'physics.atom-ph', 'physics.class-ph', 'physics.ed-ph', 'physics.gen-ph', 'physics.hist-ph', 'physics.ins-det', 'physics.plasm-ph', 'physics.pop-ph', 'physics.space-ph', 'q-bio', 'q-bio.CB', 'q-bio.OT', 'q-bio.SC', 'q-bio.TO', 'q-fin.CP', 'q-fin.GN', 'q-fin.MF', 'q-fin.PM', 'q-fin.PR', 'q-fin.RM', 'q-fin.TR', 'solv-int', 'stat.OT']\n"
          ]
        }
      ],
      "source": [
        "# Removing classes < 100\n",
        "class_distribution[class_distribution['count'] < 100]\n",
        "print(class_distribution[class_distribution['count'] < 100].count())\n",
        "remove_class_less100 = class_distribution[class_distribution['count'] < 100]['class'].to_list()\n",
        "print(remove_class_less100)"
      ]
    },
    {
      "cell_type": "code",
      "execution_count": 13,
      "metadata": {},
      "outputs": [],
      "source": [
        "# processing dataframe\n",
        "for idx, data in df.iterrows(): \n",
        "    if data['categories'] is not None:          \n",
        "        for pt in data['categories']:\n",
        "            if pt in remove_class_less100:\n",
        "                data['categories'] = data['categories'].remove(pt)\n",
        "            if data['categories'] == None:\n",
        "                df.drop(idx, inplace=True)\n",
        "                break\n",
        "    else:\n",
        "        df.drop(idx, inplace=True)\n"
      ]
    },
    {
      "cell_type": "code",
      "execution_count": 14,
      "metadata": {},
      "outputs": [
        {
          "data": {
            "text/html": [
              "<div>\n",
              "<style scoped>\n",
              "    .dataframe tbody tr th:only-of-type {\n",
              "        vertical-align: middle;\n",
              "    }\n",
              "\n",
              "    .dataframe tbody tr th {\n",
              "        vertical-align: top;\n",
              "    }\n",
              "\n",
              "    .dataframe thead th {\n",
              "        text-align: right;\n",
              "    }\n",
              "</style>\n",
              "<table border=\"1\" class=\"dataframe\">\n",
              "  <thead>\n",
              "    <tr style=\"text-align: right;\">\n",
              "      <th></th>\n",
              "      <th>title</th>\n",
              "      <th>categories</th>\n",
              "    </tr>\n",
              "  </thead>\n",
              "  <tbody>\n",
              "    <tr>\n",
              "      <th>0</th>\n",
              "      <td>Intelligent location of simultaneously active ...</td>\n",
              "      <td>[cs.NE, cs.AI]</td>\n",
              "    </tr>\n",
              "    <tr>\n",
              "      <th>1</th>\n",
              "      <td>Intelligent location of simultaneously active ...</td>\n",
              "      <td>[cs.NE, cs.AI]</td>\n",
              "    </tr>\n",
              "    <tr>\n",
              "      <th>2</th>\n",
              "      <td>On-line Viterbi Algorithm and Its Relationship...</td>\n",
              "      <td>[cs.DS]</td>\n",
              "    </tr>\n",
              "    <tr>\n",
              "      <th>3</th>\n",
              "      <td>Real Options for Project Schedules (ROPS)</td>\n",
              "      <td>[cs.CE, cond-mat.stat-mech, cs.MS, cs.NA, phys...</td>\n",
              "    </tr>\n",
              "    <tr>\n",
              "      <th>4</th>\n",
              "      <td>Sparsely-spread CDMA - a statistical mechanics...</td>\n",
              "      <td>[cs.IT, math.IT]</td>\n",
              "    </tr>\n",
              "    <tr>\n",
              "      <th>...</th>\n",
              "      <td>...</td>\n",
              "      <td>...</td>\n",
              "    </tr>\n",
              "    <tr>\n",
              "      <th>383509</th>\n",
              "      <td>Mixed-Level Knowledge Representation and Varia...</td>\n",
              "      <td>[cs.CL]</td>\n",
              "    </tr>\n",
              "    <tr>\n",
              "      <th>383510</th>\n",
              "      <td>Computation in an algebra of test selection cr...</td>\n",
              "      <td>[cs.SE]</td>\n",
              "    </tr>\n",
              "    <tr>\n",
              "      <th>383511</th>\n",
              "      <td>Quantum Bit Commitment Expansion</td>\n",
              "      <td>[cs.CR]</td>\n",
              "    </tr>\n",
              "    <tr>\n",
              "      <th>383512</th>\n",
              "      <td>Additive models in high dimensions</td>\n",
              "      <td>[cs.DS]</td>\n",
              "    </tr>\n",
              "    <tr>\n",
              "      <th>383513</th>\n",
              "      <td>Seeing the Forest in the Tree: Applying VRML t...</td>\n",
              "      <td>[cs.MS, cs.CE]</td>\n",
              "    </tr>\n",
              "  </tbody>\n",
              "</table>\n",
              "<p>381732 rows × 2 columns</p>\n",
              "</div>"
            ],
            "text/plain": [
              "                                                    title  \\\n",
              "0       Intelligent location of simultaneously active ...   \n",
              "1       Intelligent location of simultaneously active ...   \n",
              "2       On-line Viterbi Algorithm and Its Relationship...   \n",
              "3               Real Options for Project Schedules (ROPS)   \n",
              "4       Sparsely-spread CDMA - a statistical mechanics...   \n",
              "...                                                   ...   \n",
              "383509  Mixed-Level Knowledge Representation and Varia...   \n",
              "383510  Computation in an algebra of test selection cr...   \n",
              "383511                   Quantum Bit Commitment Expansion   \n",
              "383512                 Additive models in high dimensions   \n",
              "383513  Seeing the Forest in the Tree: Applying VRML t...   \n",
              "\n",
              "                                               categories  \n",
              "0                                          [cs.NE, cs.AI]  \n",
              "1                                          [cs.NE, cs.AI]  \n",
              "2                                                 [cs.DS]  \n",
              "3       [cs.CE, cond-mat.stat-mech, cs.MS, cs.NA, phys...  \n",
              "4                                        [cs.IT, math.IT]  \n",
              "...                                                   ...  \n",
              "383509                                            [cs.CL]  \n",
              "383510                                            [cs.SE]  \n",
              "383511                                            [cs.CR]  \n",
              "383512                                            [cs.DS]  \n",
              "383513                                     [cs.MS, cs.CE]  \n",
              "\n",
              "[381732 rows x 2 columns]"
            ]
          },
          "execution_count": 14,
          "metadata": {},
          "output_type": "execute_result"
        }
      ],
      "source": [
        "df"
      ]
    },
    {
      "cell_type": "code",
      "execution_count": 18,
      "metadata": {},
      "outputs": [],
      "source": [
        "# saving the reduced dataset\n",
        "df.to_csv('../data/103_classes_filtered.csv')"
      ]
    },
    {
      "cell_type": "code",
      "execution_count": 19,
      "metadata": {},
      "outputs": [
        {
          "data": {
            "text/plain": [
              "103"
            ]
          },
          "execution_count": 19,
          "metadata": {},
          "output_type": "execute_result"
        }
      ],
      "source": [
        "mlb2 = MultiLabelBinarizer()\n",
        "y_binarized2 = mlb2.fit_transform(df['categories'])\n",
        "len(mlb2.classes_)"
      ]
    },
    {
      "cell_type": "code",
      "execution_count": 20,
      "metadata": {},
      "outputs": [
        {
          "name": "stdout",
          "output_type": "stream",
          "text": [
            "                  class  count\n",
            "0           astro-ph.IM    212\n",
            "1       cond-mat.dis-nn    367\n",
            "2     cond-mat.mtrl-sci    179\n",
            "3    cond-mat.stat-mech    422\n",
            "4                 cs.AI  51083\n",
            "..                  ...    ...\n",
            "98              stat.AP   1636\n",
            "99              stat.CO    514\n",
            "100             stat.ME    786\n",
            "101             stat.ML  34642\n",
            "102             stat.TH   1347\n",
            "\n",
            "[103 rows x 2 columns]\n"
          ]
        }
      ],
      "source": [
        "class_sum = np.sum(y_binarized2, axis =0)\n",
        "class_distribution2 = pd.DataFrame(columns=['class','count'])\n",
        "for i in range(len(mlb2.classes_)):\n",
        "    class_distribution2.loc[i] = [mlb2.classes_[i],class_sum[i]]\n",
        "print(class_distribution2)"
      ]
    },
    {
      "cell_type": "code",
      "execution_count": 21,
      "metadata": {},
      "outputs": [
        {
          "data": {
            "image/png": "[encoded data removed]",
            "text/plain": [
              "<Figure size 1440x288 with 1 Axes>"
            ]
          },
          "metadata": {
            "needs_background": "light"
          },
          "output_type": "display_data"
        }
      ],
      "source": [
        "# plot of 103 classes\n",
        "class_distribution_sorted2 = class_distribution2.sort_values('count', ascending=False)\n",
        "\n",
        "plt.close(\"all\")\n",
        "fig, ax = plt.subplots(figsize = (20, 4))\n",
        "idx = np.arange(len(class_distribution_sorted2['count']))\n",
        "width = 0.5\n",
        "ax.bar(idx, class_distribution_sorted2['count'], width=width)\n",
        "\n",
        "xticks_idx = idx[::2]\n",
        "\n",
        "ax.set_xticks(xticks_idx)\n",
        "ax.set_xticklabels([class_distribution_sorted2['class'][x] for x in xticks_idx], rotation=90)\n",
        "ax.set_ylabel(\"Count\")\n",
        "ax.set_xlabel(\"Classes\")\n",
        "plt.yscale(\"log\")\n",
        "plt.show()\n",
        "fig.savefig(\"classes_103.pdf\", bbox_inches=\"tight\")"
      ]
    },
    {
      "cell_type": "code",
      "execution_count": null,
      "metadata": {},
      "outputs": [],
      "source": []
    }
  ],
  "metadata": {
    "colab": {
      "provenance": []
    },
    "kernelspec": {
      "display_name": "Python 3.9.12 ('base')",
      "language": "python",
      "name": "python3"
    },
    "language_info": {
      "codemirror_mode": {
        "name": "ipython",
        "version": 3
      },
      "file_extension": ".py",
      "mimetype": "text/x-python",
      "name": "python",
      "nbconvert_exporter": "python",
      "pygments_lexer": "ipython3",
      "version": "3.9.12"
    },
    "orig_nbformat": 4,
    "vscode": {
      "interpreter": {
        "hash": "dfad143759263861f218098ffac96349330b525a4ec8957cf3d4a95ef932a418"
      }
    }
  },
  "nbformat": 4,
  "nbformat_minor": 0
}
